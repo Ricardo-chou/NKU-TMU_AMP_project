{
 "cells": [
  {
   "metadata": {
    "ExecuteTime": {
     "end_time": "2025-07-24T18:21:59.889632Z",
     "start_time": "2025-07-24T18:21:50.152716Z"
    }
   },
   "cell_type": "code",
   "source": [
    "from selenium import webdriver\n",
    "from bs4 import BeautifulSoup\n",
    "import time\n",
    "from selenium.webdriver.chrome.service import Service\n",
    "from selenium.webdriver.common.by import By\n",
    "\n",
    "# ✅ 替换为你实际的 chromedriver 路径\n",
    "driver_path = \"/Users/ricardozhao/Downloads/chromedriver-mac-arm64/chromedriver\"\n",
    "service = Service(driver_path)\n",
    "driver = webdriver.Chrome(service=service)\n",
    "\n",
    "valid_ids = set()\n",
    "\n",
    "# ✅ 打开 CAMP 页面\n",
    "driver.get(\"https://camp.bicnirrh.res.in/seqDb.php\")\n",
    "time.sleep(2)\n",
    "\n",
    "# ✅ 勾选 \"Experimentally validated\"\n",
    "checkbox_exval = driver.find_element(By.NAME, \"exval\")\n",
    "checkbox_exval.click()\n",
    "time.sleep(2)\n",
    "\n",
    "# ✅ 勾选 \"1-100\" 长度范围\n",
    "checkbox_length = driver.find_element(By.NAME, \"oneh\")\n",
    "checkbox_length.click()\n",
    "time.sleep(3)  # 让页面刷新"
   ],
   "id": "aad2912ba51be1e0",
   "outputs": [],
   "execution_count": 39
  },
  {
   "metadata": {
    "ExecuteTime": {
     "end_time": "2025-07-24T18:39:25.321052Z",
     "start_time": "2025-07-24T18:23:18.848249Z"
    }
   },
   "cell_type": "code",
   "source": [
    "\n",
    "# ✅ 分页抓取\n",
    "for i in range(232, 631, 1):  # 理论最大页数\n",
    "    print(f\"📄 正在抓取第 {i+1} 页\")\n",
    "    soup = BeautifulSoup(driver.page_source, \"html.parser\")\n",
    "    for a in soup.find_all(\"a\"):\n",
    "        href = a.get(\"href\", \"\")\n",
    "        if \"seqDisp.php?id=CAMPSQ\" in href:\n",
    "            amp_id = href.split(\"id=\")[-1]\n",
    "            valid_ids.add(amp_id)\n",
    "\n",
    "    # 点击 \"Next >>\"\n",
    "    try:\n",
    "        next_btn = driver.find_element(By.LINK_TEXT, \"Next >>\")\n",
    "        next_btn.click()\n",
    "        time.sleep(2)\n",
    "    except Exception as e:\n",
    "        print(\"❌ 无法点击下一页（可能到头了）:\", e)\n",
    "        break\n",
    "\n",
    "driver.quit()\n",
    "\n",
    "# ✅ 保存 AMP ID 列表\n",
    "with open(\"valid_amp_ids2.txt\", \"w\") as f:\n",
    "    for vid in sorted(valid_ids):\n",
    "        f.write(vid + \"\\n\")\n",
    "\n",
    "print(\"✅ 共抓取 AMP ID 数:\", len(valid_ids))\n"
   ],
   "id": "3359cf9f038cf1ae",
   "outputs": [
    {
     "name": "stdout",
     "output_type": "stream",
     "text": [
      "📄 正在抓取第 233 页\n",
      "📄 正在抓取第 234 页\n",
      "📄 正在抓取第 235 页\n",
      "📄 正在抓取第 236 页\n",
      "📄 正在抓取第 237 页\n",
      "📄 正在抓取第 238 页\n",
      "📄 正在抓取第 239 页\n",
      "📄 正在抓取第 240 页\n",
      "📄 正在抓取第 241 页\n",
      "📄 正在抓取第 242 页\n",
      "📄 正在抓取第 243 页\n",
      "📄 正在抓取第 244 页\n",
      "📄 正在抓取第 245 页\n",
      "📄 正在抓取第 246 页\n",
      "📄 正在抓取第 247 页\n",
      "📄 正在抓取第 248 页\n",
      "📄 正在抓取第 249 页\n",
      "📄 正在抓取第 250 页\n",
      "📄 正在抓取第 251 页\n",
      "📄 正在抓取第 252 页\n",
      "📄 正在抓取第 253 页\n",
      "📄 正在抓取第 254 页\n",
      "📄 正在抓取第 255 页\n",
      "📄 正在抓取第 256 页\n",
      "📄 正在抓取第 257 页\n",
      "📄 正在抓取第 258 页\n",
      "📄 正在抓取第 259 页\n",
      "📄 正在抓取第 260 页\n",
      "📄 正在抓取第 261 页\n",
      "📄 正在抓取第 262 页\n",
      "📄 正在抓取第 263 页\n",
      "📄 正在抓取第 264 页\n",
      "📄 正在抓取第 265 页\n",
      "📄 正在抓取第 266 页\n",
      "📄 正在抓取第 267 页\n",
      "📄 正在抓取第 268 页\n",
      "📄 正在抓取第 269 页\n",
      "📄 正在抓取第 270 页\n",
      "📄 正在抓取第 271 页\n",
      "📄 正在抓取第 272 页\n",
      "📄 正在抓取第 273 页\n",
      "📄 正在抓取第 274 页\n",
      "📄 正在抓取第 275 页\n",
      "📄 正在抓取第 276 页\n",
      "📄 正在抓取第 277 页\n",
      "📄 正在抓取第 278 页\n",
      "📄 正在抓取第 279 页\n",
      "📄 正在抓取第 280 页\n",
      "📄 正在抓取第 281 页\n",
      "📄 正在抓取第 282 页\n",
      "📄 正在抓取第 283 页\n",
      "📄 正在抓取第 284 页\n",
      "📄 正在抓取第 285 页\n",
      "📄 正在抓取第 286 页\n",
      "📄 正在抓取第 287 页\n",
      "📄 正在抓取第 288 页\n",
      "📄 正在抓取第 289 页\n",
      "📄 正在抓取第 290 页\n",
      "📄 正在抓取第 291 页\n",
      "📄 正在抓取第 292 页\n",
      "📄 正在抓取第 293 页\n",
      "📄 正在抓取第 294 页\n",
      "📄 正在抓取第 295 页\n",
      "📄 正在抓取第 296 页\n",
      "📄 正在抓取第 297 页\n",
      "📄 正在抓取第 298 页\n",
      "📄 正在抓取第 299 页\n",
      "📄 正在抓取第 300 页\n",
      "📄 正在抓取第 301 页\n",
      "📄 正在抓取第 302 页\n",
      "📄 正在抓取第 303 页\n",
      "📄 正在抓取第 304 页\n",
      "📄 正在抓取第 305 页\n",
      "📄 正在抓取第 306 页\n",
      "📄 正在抓取第 307 页\n",
      "📄 正在抓取第 308 页\n",
      "📄 正在抓取第 309 页\n",
      "📄 正在抓取第 310 页\n",
      "📄 正在抓取第 311 页\n",
      "📄 正在抓取第 312 页\n",
      "📄 正在抓取第 313 页\n",
      "📄 正在抓取第 314 页\n",
      "📄 正在抓取第 315 页\n",
      "📄 正在抓取第 316 页\n",
      "📄 正在抓取第 317 页\n",
      "📄 正在抓取第 318 页\n",
      "📄 正在抓取第 319 页\n",
      "📄 正在抓取第 320 页\n",
      "📄 正在抓取第 321 页\n",
      "📄 正在抓取第 322 页\n",
      "📄 正在抓取第 323 页\n",
      "📄 正在抓取第 324 页\n",
      "📄 正在抓取第 325 页\n",
      "📄 正在抓取第 326 页\n",
      "📄 正在抓取第 327 页\n",
      "📄 正在抓取第 328 页\n",
      "📄 正在抓取第 329 页\n",
      "📄 正在抓取第 330 页\n",
      "📄 正在抓取第 331 页\n",
      "📄 正在抓取第 332 页\n",
      "📄 正在抓取第 333 页\n",
      "📄 正在抓取第 334 页\n",
      "📄 正在抓取第 335 页\n",
      "📄 正在抓取第 336 页\n",
      "📄 正在抓取第 337 页\n",
      "📄 正在抓取第 338 页\n",
      "📄 正在抓取第 339 页\n",
      "📄 正在抓取第 340 页\n",
      "📄 正在抓取第 341 页\n",
      "📄 正在抓取第 342 页\n",
      "📄 正在抓取第 343 页\n",
      "📄 正在抓取第 344 页\n",
      "📄 正在抓取第 345 页\n",
      "📄 正在抓取第 346 页\n",
      "📄 正在抓取第 347 页\n",
      "📄 正在抓取第 348 页\n",
      "📄 正在抓取第 349 页\n",
      "📄 正在抓取第 350 页\n",
      "📄 正在抓取第 351 页\n",
      "📄 正在抓取第 352 页\n",
      "📄 正在抓取第 353 页\n",
      "📄 正在抓取第 354 页\n",
      "📄 正在抓取第 355 页\n",
      "📄 正在抓取第 356 页\n",
      "📄 正在抓取第 357 页\n",
      "📄 正在抓取第 358 页\n",
      "📄 正在抓取第 359 页\n",
      "📄 正在抓取第 360 页\n",
      "📄 正在抓取第 361 页\n",
      "📄 正在抓取第 362 页\n",
      "📄 正在抓取第 363 页\n",
      "📄 正在抓取第 364 页\n",
      "📄 正在抓取第 365 页\n",
      "📄 正在抓取第 366 页\n",
      "📄 正在抓取第 367 页\n",
      "📄 正在抓取第 368 页\n",
      "📄 正在抓取第 369 页\n",
      "📄 正在抓取第 370 页\n",
      "📄 正在抓取第 371 页\n",
      "📄 正在抓取第 372 页\n",
      "📄 正在抓取第 373 页\n",
      "📄 正在抓取第 374 页\n",
      "📄 正在抓取第 375 页\n",
      "📄 正在抓取第 376 页\n",
      "📄 正在抓取第 377 页\n",
      "📄 正在抓取第 378 页\n",
      "📄 正在抓取第 379 页\n",
      "📄 正在抓取第 380 页\n",
      "📄 正在抓取第 381 页\n",
      "📄 正在抓取第 382 页\n",
      "📄 正在抓取第 383 页\n",
      "📄 正在抓取第 384 页\n",
      "📄 正在抓取第 385 页\n",
      "📄 正在抓取第 386 页\n",
      "📄 正在抓取第 387 页\n",
      "📄 正在抓取第 388 页\n",
      "📄 正在抓取第 389 页\n",
      "📄 正在抓取第 390 页\n",
      "📄 正在抓取第 391 页\n",
      "📄 正在抓取第 392 页\n",
      "📄 正在抓取第 393 页\n",
      "📄 正在抓取第 394 页\n",
      "📄 正在抓取第 395 页\n",
      "📄 正在抓取第 396 页\n",
      "📄 正在抓取第 397 页\n",
      "📄 正在抓取第 398 页\n",
      "📄 正在抓取第 399 页\n",
      "📄 正在抓取第 400 页\n",
      "📄 正在抓取第 401 页\n",
      "📄 正在抓取第 402 页\n",
      "📄 正在抓取第 403 页\n",
      "📄 正在抓取第 404 页\n",
      "📄 正在抓取第 405 页\n",
      "📄 正在抓取第 406 页\n",
      "📄 正在抓取第 407 页\n",
      "📄 正在抓取第 408 页\n",
      "📄 正在抓取第 409 页\n",
      "📄 正在抓取第 410 页\n",
      "📄 正在抓取第 411 页\n",
      "📄 正在抓取第 412 页\n",
      "📄 正在抓取第 413 页\n",
      "📄 正在抓取第 414 页\n",
      "📄 正在抓取第 415 页\n",
      "📄 正在抓取第 416 页\n",
      "📄 正在抓取第 417 页\n",
      "📄 正在抓取第 418 页\n",
      "📄 正在抓取第 419 页\n",
      "📄 正在抓取第 420 页\n",
      "📄 正在抓取第 421 页\n",
      "📄 正在抓取第 422 页\n",
      "📄 正在抓取第 423 页\n",
      "📄 正在抓取第 424 页\n",
      "📄 正在抓取第 425 页\n",
      "📄 正在抓取第 426 页\n",
      "📄 正在抓取第 427 页\n",
      "📄 正在抓取第 428 页\n",
      "📄 正在抓取第 429 页\n",
      "📄 正在抓取第 430 页\n",
      "📄 正在抓取第 431 页\n",
      "📄 正在抓取第 432 页\n",
      "📄 正在抓取第 433 页\n",
      "📄 正在抓取第 434 页\n",
      "📄 正在抓取第 435 页\n",
      "📄 正在抓取第 436 页\n",
      "📄 正在抓取第 437 页\n",
      "📄 正在抓取第 438 页\n",
      "📄 正在抓取第 439 页\n",
      "📄 正在抓取第 440 页\n",
      "📄 正在抓取第 441 页\n",
      "📄 正在抓取第 442 页\n",
      "📄 正在抓取第 443 页\n",
      "📄 正在抓取第 444 页\n",
      "📄 正在抓取第 445 页\n",
      "📄 正在抓取第 446 页\n",
      "📄 正在抓取第 447 页\n",
      "📄 正在抓取第 448 页\n",
      "📄 正在抓取第 449 页\n",
      "📄 正在抓取第 450 页\n",
      "📄 正在抓取第 451 页\n",
      "📄 正在抓取第 452 页\n",
      "📄 正在抓取第 453 页\n",
      "📄 正在抓取第 454 页\n",
      "📄 正在抓取第 455 页\n",
      "📄 正在抓取第 456 页\n",
      "📄 正在抓取第 457 页\n",
      "📄 正在抓取第 458 页\n",
      "📄 正在抓取第 459 页\n",
      "📄 正在抓取第 460 页\n",
      "📄 正在抓取第 461 页\n",
      "📄 正在抓取第 462 页\n",
      "📄 正在抓取第 463 页\n",
      "📄 正在抓取第 464 页\n",
      "📄 正在抓取第 465 页\n",
      "📄 正在抓取第 466 页\n",
      "📄 正在抓取第 467 页\n",
      "📄 正在抓取第 468 页\n",
      "📄 正在抓取第 469 页\n",
      "📄 正在抓取第 470 页\n",
      "📄 正在抓取第 471 页\n",
      "📄 正在抓取第 472 页\n",
      "📄 正在抓取第 473 页\n",
      "📄 正在抓取第 474 页\n",
      "📄 正在抓取第 475 页\n",
      "📄 正在抓取第 476 页\n",
      "📄 正在抓取第 477 页\n",
      "📄 正在抓取第 478 页\n",
      "📄 正在抓取第 479 页\n",
      "📄 正在抓取第 480 页\n",
      "📄 正在抓取第 481 页\n",
      "📄 正在抓取第 482 页\n",
      "📄 正在抓取第 483 页\n",
      "📄 正在抓取第 484 页\n",
      "📄 正在抓取第 485 页\n",
      "📄 正在抓取第 486 页\n",
      "📄 正在抓取第 487 页\n",
      "📄 正在抓取第 488 页\n",
      "📄 正在抓取第 489 页\n",
      "📄 正在抓取第 490 页\n",
      "📄 正在抓取第 491 页\n",
      "📄 正在抓取第 492 页\n",
      "📄 正在抓取第 493 页\n",
      "📄 正在抓取第 494 页\n",
      "📄 正在抓取第 495 页\n",
      "📄 正在抓取第 496 页\n",
      "📄 正在抓取第 497 页\n",
      "📄 正在抓取第 498 页\n",
      "📄 正在抓取第 499 页\n",
      "📄 正在抓取第 500 页\n",
      "📄 正在抓取第 501 页\n",
      "📄 正在抓取第 502 页\n",
      "📄 正在抓取第 503 页\n",
      "📄 正在抓取第 504 页\n",
      "📄 正在抓取第 505 页\n",
      "📄 正在抓取第 506 页\n",
      "📄 正在抓取第 507 页\n",
      "📄 正在抓取第 508 页\n",
      "📄 正在抓取第 509 页\n",
      "📄 正在抓取第 510 页\n",
      "📄 正在抓取第 511 页\n",
      "📄 正在抓取第 512 页\n",
      "📄 正在抓取第 513 页\n",
      "📄 正在抓取第 514 页\n",
      "📄 正在抓取第 515 页\n",
      "📄 正在抓取第 516 页\n",
      "📄 正在抓取第 517 页\n",
      "📄 正在抓取第 518 页\n",
      "📄 正在抓取第 519 页\n",
      "📄 正在抓取第 520 页\n",
      "📄 正在抓取第 521 页\n",
      "📄 正在抓取第 522 页\n",
      "📄 正在抓取第 523 页\n",
      "📄 正在抓取第 524 页\n",
      "📄 正在抓取第 525 页\n",
      "📄 正在抓取第 526 页\n",
      "📄 正在抓取第 527 页\n",
      "📄 正在抓取第 528 页\n",
      "📄 正在抓取第 529 页\n",
      "📄 正在抓取第 530 页\n",
      "📄 正在抓取第 531 页\n",
      "📄 正在抓取第 532 页\n",
      "📄 正在抓取第 533 页\n",
      "📄 正在抓取第 534 页\n",
      "📄 正在抓取第 535 页\n",
      "📄 正在抓取第 536 页\n",
      "📄 正在抓取第 537 页\n",
      "📄 正在抓取第 538 页\n",
      "📄 正在抓取第 539 页\n",
      "📄 正在抓取第 540 页\n",
      "📄 正在抓取第 541 页\n",
      "📄 正在抓取第 542 页\n",
      "📄 正在抓取第 543 页\n",
      "📄 正在抓取第 544 页\n",
      "📄 正在抓取第 545 页\n",
      "📄 正在抓取第 546 页\n",
      "📄 正在抓取第 547 页\n",
      "📄 正在抓取第 548 页\n",
      "📄 正在抓取第 549 页\n",
      "📄 正在抓取第 550 页\n",
      "📄 正在抓取第 551 页\n",
      "📄 正在抓取第 552 页\n",
      "📄 正在抓取第 553 页\n",
      "📄 正在抓取第 554 页\n",
      "📄 正在抓取第 555 页\n",
      "📄 正在抓取第 556 页\n",
      "📄 正在抓取第 557 页\n",
      "📄 正在抓取第 558 页\n",
      "📄 正在抓取第 559 页\n",
      "📄 正在抓取第 560 页\n",
      "📄 正在抓取第 561 页\n",
      "📄 正在抓取第 562 页\n",
      "📄 正在抓取第 563 页\n",
      "📄 正在抓取第 564 页\n",
      "📄 正在抓取第 565 页\n",
      "📄 正在抓取第 566 页\n",
      "📄 正在抓取第 567 页\n",
      "📄 正在抓取第 568 页\n",
      "📄 正在抓取第 569 页\n",
      "📄 正在抓取第 570 页\n",
      "📄 正在抓取第 571 页\n",
      "📄 正在抓取第 572 页\n",
      "📄 正在抓取第 573 页\n",
      "📄 正在抓取第 574 页\n",
      "📄 正在抓取第 575 页\n",
      "📄 正在抓取第 576 页\n",
      "📄 正在抓取第 577 页\n",
      "📄 正在抓取第 578 页\n",
      "📄 正在抓取第 579 页\n",
      "📄 正在抓取第 580 页\n",
      "📄 正在抓取第 581 页\n",
      "📄 正在抓取第 582 页\n",
      "📄 正在抓取第 583 页\n",
      "📄 正在抓取第 584 页\n",
      "📄 正在抓取第 585 页\n",
      "📄 正在抓取第 586 页\n",
      "📄 正在抓取第 587 页\n",
      "📄 正在抓取第 588 页\n",
      "📄 正在抓取第 589 页\n",
      "📄 正在抓取第 590 页\n",
      "📄 正在抓取第 591 页\n",
      "📄 正在抓取第 592 页\n",
      "📄 正在抓取第 593 页\n",
      "📄 正在抓取第 594 页\n",
      "📄 正在抓取第 595 页\n",
      "📄 正在抓取第 596 页\n",
      "📄 正在抓取第 597 页\n",
      "📄 正在抓取第 598 页\n",
      "📄 正在抓取第 599 页\n",
      "📄 正在抓取第 600 页\n",
      "📄 正在抓取第 601 页\n",
      "📄 正在抓取第 602 页\n",
      "📄 正在抓取第 603 页\n",
      "📄 正在抓取第 604 页\n",
      "📄 正在抓取第 605 页\n",
      "📄 正在抓取第 606 页\n",
      "📄 正在抓取第 607 页\n",
      "📄 正在抓取第 608 页\n",
      "📄 正在抓取第 609 页\n",
      "📄 正在抓取第 610 页\n",
      "📄 正在抓取第 611 页\n",
      "📄 正在抓取第 612 页\n",
      "📄 正在抓取第 613 页\n",
      "📄 正在抓取第 614 页\n",
      "📄 正在抓取第 615 页\n",
      "📄 正在抓取第 616 页\n",
      "📄 正在抓取第 617 页\n",
      "📄 正在抓取第 618 页\n",
      "📄 正在抓取第 619 页\n",
      "📄 正在抓取第 620 页\n",
      "📄 正在抓取第 621 页\n",
      "📄 正在抓取第 622 页\n",
      "📄 正在抓取第 623 页\n",
      "📄 正在抓取第 624 页\n",
      "📄 正在抓取第 625 页\n",
      "📄 正在抓取第 626 页\n",
      "📄 正在抓取第 627 页\n",
      "📄 正在抓取第 628 页\n",
      "📄 正在抓取第 629 页\n",
      "📄 正在抓取第 630 页\n",
      "📄 正在抓取第 631 页\n",
      "✅ 共抓取 AMP ID 数: 9975\n"
     ]
    }
   ],
   "execution_count": 40
  },
  {
   "metadata": {
    "ExecuteTime": {
     "end_time": "2025-07-24T17:30:02.806891Z",
     "start_time": "2025-07-24T17:30:02.801473Z"
    }
   },
   "cell_type": "code",
   "source": "sorted(valid_ids)",
   "id": "d74eac94a33d72e",
   "outputs": [
    {
     "data": {
      "text/plain": [
       "['CAMPSQ12088',\n",
       " 'CAMPSQ12089',\n",
       " 'CAMPSQ12090',\n",
       " 'CAMPSQ12091',\n",
       " 'CAMPSQ12092',\n",
       " 'CAMPSQ12093',\n",
       " 'CAMPSQ12094',\n",
       " 'CAMPSQ12095',\n",
       " 'CAMPSQ12096',\n",
       " 'CAMPSQ12097',\n",
       " 'CAMPSQ12098',\n",
       " 'CAMPSQ12099',\n",
       " 'CAMPSQ12100',\n",
       " 'CAMPSQ12101',\n",
       " 'CAMPSQ12102',\n",
       " 'CAMPSQ12103',\n",
       " 'CAMPSQ12104',\n",
       " 'CAMPSQ12105',\n",
       " 'CAMPSQ12106',\n",
       " 'CAMPSQ12107',\n",
       " 'CAMPSQ12108',\n",
       " 'CAMPSQ12345',\n",
       " 'CAMPSQ12346',\n",
       " 'CAMPSQ12347',\n",
       " 'CAMPSQ12348',\n",
       " 'CAMPSQ12349',\n",
       " 'CAMPSQ12350',\n",
       " 'CAMPSQ12351',\n",
       " 'CAMPSQ12352',\n",
       " 'CAMPSQ12353',\n",
       " 'CAMPSQ12354',\n",
       " 'CAMPSQ12355',\n",
       " 'CAMPSQ12356',\n",
       " 'CAMPSQ12357',\n",
       " 'CAMPSQ12358',\n",
       " 'CAMPSQ12533',\n",
       " 'CAMPSQ12534',\n",
       " 'CAMPSQ12535',\n",
       " 'CAMPSQ12536',\n",
       " 'CAMPSQ12537',\n",
       " 'CAMPSQ12538',\n",
       " 'CAMPSQ12539',\n",
       " 'CAMPSQ12540',\n",
       " 'CAMPSQ12541',\n",
       " 'CAMPSQ12542',\n",
       " 'CAMPSQ12543',\n",
       " 'CAMPSQ12544',\n",
       " 'CAMPSQ12545',\n",
       " 'CAMPSQ12546',\n",
       " 'CAMPSQ12547',\n",
       " 'CAMPSQ12548',\n",
       " 'CAMPSQ12549',\n",
       " 'CAMPSQ12550',\n",
       " 'CAMPSQ12551',\n",
       " 'CAMPSQ15088',\n",
       " 'CAMPSQ15089',\n",
       " 'CAMPSQ15090',\n",
       " 'CAMPSQ15091',\n",
       " 'CAMPSQ15092',\n",
       " 'CAMPSQ16368',\n",
       " 'CAMPSQ16369',\n",
       " 'CAMPSQ16370',\n",
       " 'CAMPSQ16371',\n",
       " 'CAMPSQ16372',\n",
       " 'CAMPSQ16373',\n",
       " 'CAMPSQ16374',\n",
       " 'CAMPSQ16375',\n",
       " 'CAMPSQ16376',\n",
       " 'CAMPSQ16377',\n",
       " 'CAMPSQ16378',\n",
       " 'CAMPSQ16379',\n",
       " 'CAMPSQ16380',\n",
       " 'CAMPSQ16381',\n",
       " 'CAMPSQ16382',\n",
       " 'CAMPSQ16383',\n",
       " 'CAMPSQ16384',\n",
       " 'CAMPSQ16385',\n",
       " 'CAMPSQ16386',\n",
       " 'CAMPSQ16387',\n",
       " 'CAMPSQ16388',\n",
       " 'CAMPSQ16389',\n",
       " 'CAMPSQ16390',\n",
       " 'CAMPSQ16391',\n",
       " 'CAMPSQ16392',\n",
       " 'CAMPSQ16393',\n",
       " 'CAMPSQ16394',\n",
       " 'CAMPSQ16395',\n",
       " 'CAMPSQ16396',\n",
       " 'CAMPSQ16397',\n",
       " 'CAMPSQ16398',\n",
       " 'CAMPSQ16399',\n",
       " 'CAMPSQ16400',\n",
       " 'CAMPSQ16401',\n",
       " 'CAMPSQ16402',\n",
       " 'CAMPSQ16403',\n",
       " 'CAMPSQ16404',\n",
       " 'CAMPSQ16405',\n",
       " 'CAMPSQ16406',\n",
       " 'CAMPSQ16407',\n",
       " 'CAMPSQ16408',\n",
       " 'CAMPSQ16409',\n",
       " 'CAMPSQ16410',\n",
       " 'CAMPSQ16411',\n",
       " 'CAMPSQ16412',\n",
       " 'CAMPSQ16413',\n",
       " 'CAMPSQ16414',\n",
       " 'CAMPSQ16415',\n",
       " 'CAMPSQ16416',\n",
       " 'CAMPSQ16417',\n",
       " 'CAMPSQ16418',\n",
       " 'CAMPSQ16419',\n",
       " 'CAMPSQ16420',\n",
       " 'CAMPSQ16421',\n",
       " 'CAMPSQ16422',\n",
       " 'CAMPSQ16423',\n",
       " 'CAMPSQ16424',\n",
       " 'CAMPSQ16425',\n",
       " 'CAMPSQ16426',\n",
       " 'CAMPSQ16427',\n",
       " 'CAMPSQ16428',\n",
       " 'CAMPSQ16429',\n",
       " 'CAMPSQ16430',\n",
       " 'CAMPSQ16431',\n",
       " 'CAMPSQ16432',\n",
       " 'CAMPSQ16433',\n",
       " 'CAMPSQ16434',\n",
       " 'CAMPSQ16435',\n",
       " 'CAMPSQ16436',\n",
       " 'CAMPSQ16437',\n",
       " 'CAMPSQ16438',\n",
       " 'CAMPSQ16440',\n",
       " 'CAMPSQ16448',\n",
       " 'CAMPSQ16686',\n",
       " 'CAMPSQ16687',\n",
       " 'CAMPSQ16688',\n",
       " 'CAMPSQ16690',\n",
       " 'CAMPSQ16691',\n",
       " 'CAMPSQ16745',\n",
       " 'CAMPSQ16746',\n",
       " 'CAMPSQ16747',\n",
       " 'CAMPSQ16748',\n",
       " 'CAMPSQ16749',\n",
       " 'CAMPSQ16750',\n",
       " 'CAMPSQ16751',\n",
       " 'CAMPSQ16752',\n",
       " 'CAMPSQ16753',\n",
       " 'CAMPSQ16754',\n",
       " 'CAMPSQ16755',\n",
       " 'CAMPSQ16756',\n",
       " 'CAMPSQ16757',\n",
       " 'CAMPSQ16758',\n",
       " 'CAMPSQ16759',\n",
       " 'CAMPSQ16760',\n",
       " 'CAMPSQ16761',\n",
       " 'CAMPSQ16762',\n",
       " 'CAMPSQ16763',\n",
       " 'CAMPSQ16764',\n",
       " 'CAMPSQ16765',\n",
       " 'CAMPSQ16766',\n",
       " 'CAMPSQ16767',\n",
       " 'CAMPSQ16768',\n",
       " 'CAMPSQ16769',\n",
       " 'CAMPSQ16770',\n",
       " 'CAMPSQ16771',\n",
       " 'CAMPSQ16772',\n",
       " 'CAMPSQ16773',\n",
       " 'CAMPSQ16774',\n",
       " 'CAMPSQ16775',\n",
       " 'CAMPSQ16776',\n",
       " 'CAMPSQ16777',\n",
       " 'CAMPSQ16778',\n",
       " 'CAMPSQ16779',\n",
       " 'CAMPSQ16780',\n",
       " 'CAMPSQ16781',\n",
       " 'CAMPSQ16782',\n",
       " 'CAMPSQ16783',\n",
       " 'CAMPSQ16784',\n",
       " 'CAMPSQ16785',\n",
       " 'CAMPSQ16786',\n",
       " 'CAMPSQ16787',\n",
       " 'CAMPSQ16788',\n",
       " 'CAMPSQ16789',\n",
       " 'CAMPSQ16790',\n",
       " 'CAMPSQ16791',\n",
       " 'CAMPSQ16792',\n",
       " 'CAMPSQ16793',\n",
       " 'CAMPSQ16794',\n",
       " 'CAMPSQ16795',\n",
       " 'CAMPSQ16796',\n",
       " 'CAMPSQ16836',\n",
       " 'CAMPSQ16837',\n",
       " 'CAMPSQ16838',\n",
       " 'CAMPSQ16839',\n",
       " 'CAMPSQ16840',\n",
       " 'CAMPSQ16841',\n",
       " 'CAMPSQ16842',\n",
       " 'CAMPSQ16843',\n",
       " 'CAMPSQ16844',\n",
       " 'CAMPSQ16845',\n",
       " 'CAMPSQ16846',\n",
       " 'CAMPSQ16847',\n",
       " 'CAMPSQ16848',\n",
       " 'CAMPSQ16849',\n",
       " 'CAMPSQ16850',\n",
       " 'CAMPSQ16851',\n",
       " 'CAMPSQ16852',\n",
       " 'CAMPSQ16853',\n",
       " 'CAMPSQ16854',\n",
       " 'CAMPSQ16855',\n",
       " 'CAMPSQ16856',\n",
       " 'CAMPSQ16857',\n",
       " 'CAMPSQ16858',\n",
       " 'CAMPSQ16859',\n",
       " 'CAMPSQ16860',\n",
       " 'CAMPSQ16861',\n",
       " 'CAMPSQ16862',\n",
       " 'CAMPSQ16863',\n",
       " 'CAMPSQ16864',\n",
       " 'CAMPSQ16865',\n",
       " 'CAMPSQ16866',\n",
       " 'CAMPSQ16867',\n",
       " 'CAMPSQ16868',\n",
       " 'CAMPSQ16869',\n",
       " 'CAMPSQ16870',\n",
       " 'CAMPSQ16871',\n",
       " 'CAMPSQ16872',\n",
       " 'CAMPSQ16873',\n",
       " 'CAMPSQ16874',\n",
       " 'CAMPSQ16875',\n",
       " 'CAMPSQ16876',\n",
       " 'CAMPSQ16877',\n",
       " 'CAMPSQ16878',\n",
       " 'CAMPSQ16879',\n",
       " 'CAMPSQ16880',\n",
       " 'CAMPSQ16881',\n",
       " 'CAMPSQ16882',\n",
       " 'CAMPSQ16884',\n",
       " 'CAMPSQ16885',\n",
       " 'CAMPSQ16886',\n",
       " 'CAMPSQ16887',\n",
       " 'CAMPSQ16888',\n",
       " 'CAMPSQ16889',\n",
       " 'CAMPSQ16890',\n",
       " 'CAMPSQ16891',\n",
       " 'CAMPSQ16892',\n",
       " 'CAMPSQ16893',\n",
       " 'CAMPSQ16894',\n",
       " 'CAMPSQ16895',\n",
       " 'CAMPSQ16896',\n",
       " 'CAMPSQ16897',\n",
       " 'CAMPSQ16898',\n",
       " 'CAMPSQ16899',\n",
       " 'CAMPSQ16900',\n",
       " 'CAMPSQ16901',\n",
       " 'CAMPSQ16902',\n",
       " 'CAMPSQ16903',\n",
       " 'CAMPSQ16904',\n",
       " 'CAMPSQ16905',\n",
       " 'CAMPSQ16906',\n",
       " 'CAMPSQ16907',\n",
       " 'CAMPSQ16908',\n",
       " 'CAMPSQ16909',\n",
       " 'CAMPSQ16910',\n",
       " 'CAMPSQ16911',\n",
       " 'CAMPSQ16912',\n",
       " 'CAMPSQ16913',\n",
       " 'CAMPSQ16914',\n",
       " 'CAMPSQ16915',\n",
       " 'CAMPSQ16916',\n",
       " 'CAMPSQ16917',\n",
       " 'CAMPSQ16918',\n",
       " 'CAMPSQ16919',\n",
       " 'CAMPSQ16920',\n",
       " 'CAMPSQ16921',\n",
       " 'CAMPSQ16922',\n",
       " 'CAMPSQ16923',\n",
       " 'CAMPSQ16924',\n",
       " 'CAMPSQ16925',\n",
       " 'CAMPSQ16926',\n",
       " 'CAMPSQ16927',\n",
       " 'CAMPSQ16928',\n",
       " 'CAMPSQ16929',\n",
       " 'CAMPSQ16930',\n",
       " 'CAMPSQ16931',\n",
       " 'CAMPSQ16932',\n",
       " 'CAMPSQ16933',\n",
       " 'CAMPSQ16934',\n",
       " 'CAMPSQ16935',\n",
       " 'CAMPSQ16936',\n",
       " 'CAMPSQ16937',\n",
       " 'CAMPSQ16938',\n",
       " 'CAMPSQ16939',\n",
       " 'CAMPSQ16940',\n",
       " 'CAMPSQ16941',\n",
       " 'CAMPSQ16942',\n",
       " 'CAMPSQ16943',\n",
       " 'CAMPSQ16944',\n",
       " 'CAMPSQ16945',\n",
       " 'CAMPSQ16946',\n",
       " 'CAMPSQ16947',\n",
       " 'CAMPSQ16948',\n",
       " 'CAMPSQ16949',\n",
       " 'CAMPSQ16950',\n",
       " 'CAMPSQ16951',\n",
       " 'CAMPSQ16952',\n",
       " 'CAMPSQ16953',\n",
       " 'CAMPSQ16954',\n",
       " 'CAMPSQ16955',\n",
       " 'CAMPSQ16956',\n",
       " 'CAMPSQ16957',\n",
       " 'CAMPSQ16958',\n",
       " 'CAMPSQ16959',\n",
       " 'CAMPSQ16960',\n",
       " 'CAMPSQ16961',\n",
       " 'CAMPSQ16962',\n",
       " 'CAMPSQ16963',\n",
       " 'CAMPSQ16964',\n",
       " 'CAMPSQ16965',\n",
       " 'CAMPSQ16966',\n",
       " 'CAMPSQ16967',\n",
       " 'CAMPSQ16968',\n",
       " 'CAMPSQ16969',\n",
       " 'CAMPSQ16970',\n",
       " 'CAMPSQ16971',\n",
       " 'CAMPSQ16972',\n",
       " 'CAMPSQ16973',\n",
       " 'CAMPSQ16974',\n",
       " 'CAMPSQ16975',\n",
       " 'CAMPSQ16976',\n",
       " 'CAMPSQ16977',\n",
       " 'CAMPSQ16978',\n",
       " 'CAMPSQ16980',\n",
       " 'CAMPSQ16981',\n",
       " 'CAMPSQ16982',\n",
       " 'CAMPSQ16983',\n",
       " 'CAMPSQ16984',\n",
       " 'CAMPSQ16985',\n",
       " 'CAMPSQ16986',\n",
       " 'CAMPSQ16987',\n",
       " 'CAMPSQ16988',\n",
       " 'CAMPSQ16989',\n",
       " 'CAMPSQ16990',\n",
       " 'CAMPSQ16991',\n",
       " 'CAMPSQ16992',\n",
       " 'CAMPSQ16993',\n",
       " 'CAMPSQ16994',\n",
       " 'CAMPSQ16995',\n",
       " 'CAMPSQ16996',\n",
       " 'CAMPSQ16997',\n",
       " 'CAMPSQ16998',\n",
       " 'CAMPSQ16999',\n",
       " 'CAMPSQ17000',\n",
       " 'CAMPSQ17001',\n",
       " 'CAMPSQ17002',\n",
       " 'CAMPSQ17003',\n",
       " 'CAMPSQ17004',\n",
       " 'CAMPSQ17005',\n",
       " 'CAMPSQ17006',\n",
       " 'CAMPSQ17007',\n",
       " 'CAMPSQ17008',\n",
       " 'CAMPSQ17009',\n",
       " 'CAMPSQ17010',\n",
       " 'CAMPSQ17011',\n",
       " 'CAMPSQ17012',\n",
       " 'CAMPSQ17013',\n",
       " 'CAMPSQ17014',\n",
       " 'CAMPSQ17015',\n",
       " 'CAMPSQ17016',\n",
       " 'CAMPSQ17017',\n",
       " 'CAMPSQ17018',\n",
       " 'CAMPSQ17019',\n",
       " 'CAMPSQ17020',\n",
       " 'CAMPSQ17021',\n",
       " 'CAMPSQ17022',\n",
       " 'CAMPSQ17023',\n",
       " 'CAMPSQ17024',\n",
       " 'CAMPSQ17025',\n",
       " 'CAMPSQ17026',\n",
       " 'CAMPSQ17027',\n",
       " 'CAMPSQ17028',\n",
       " 'CAMPSQ17029',\n",
       " 'CAMPSQ17030',\n",
       " 'CAMPSQ17031',\n",
       " 'CAMPSQ17032',\n",
       " 'CAMPSQ17033',\n",
       " 'CAMPSQ17034',\n",
       " 'CAMPSQ17035',\n",
       " 'CAMPSQ17036',\n",
       " 'CAMPSQ17037',\n",
       " 'CAMPSQ17038',\n",
       " 'CAMPSQ17039',\n",
       " 'CAMPSQ17040',\n",
       " 'CAMPSQ17041',\n",
       " 'CAMPSQ17042',\n",
       " 'CAMPSQ17043',\n",
       " 'CAMPSQ17044',\n",
       " 'CAMPSQ17045',\n",
       " 'CAMPSQ17046',\n",
       " 'CAMPSQ17047',\n",
       " 'CAMPSQ17048',\n",
       " 'CAMPSQ17049',\n",
       " 'CAMPSQ17050',\n",
       " 'CAMPSQ17051',\n",
       " 'CAMPSQ17052',\n",
       " 'CAMPSQ17053',\n",
       " 'CAMPSQ17054',\n",
       " 'CAMPSQ17055',\n",
       " 'CAMPSQ17056',\n",
       " 'CAMPSQ17057',\n",
       " 'CAMPSQ17058',\n",
       " 'CAMPSQ17059',\n",
       " 'CAMPSQ17060',\n",
       " 'CAMPSQ17061',\n",
       " 'CAMPSQ17062',\n",
       " 'CAMPSQ17063',\n",
       " 'CAMPSQ17064',\n",
       " 'CAMPSQ17065',\n",
       " 'CAMPSQ17066',\n",
       " 'CAMPSQ17067',\n",
       " 'CAMPSQ17068',\n",
       " 'CAMPSQ17069',\n",
       " 'CAMPSQ17070',\n",
       " 'CAMPSQ17071',\n",
       " 'CAMPSQ17072',\n",
       " 'CAMPSQ17073',\n",
       " 'CAMPSQ17074',\n",
       " 'CAMPSQ17075',\n",
       " 'CAMPSQ17076',\n",
       " 'CAMPSQ17077',\n",
       " 'CAMPSQ17078',\n",
       " 'CAMPSQ17079',\n",
       " 'CAMPSQ17080',\n",
       " 'CAMPSQ17081',\n",
       " 'CAMPSQ17082',\n",
       " 'CAMPSQ17083',\n",
       " 'CAMPSQ17084',\n",
       " 'CAMPSQ17085',\n",
       " 'CAMPSQ17086',\n",
       " 'CAMPSQ17087',\n",
       " 'CAMPSQ17088',\n",
       " 'CAMPSQ17089',\n",
       " 'CAMPSQ17090',\n",
       " 'CAMPSQ17091',\n",
       " 'CAMPSQ17092',\n",
       " 'CAMPSQ17093',\n",
       " 'CAMPSQ17094',\n",
       " 'CAMPSQ17095',\n",
       " 'CAMPSQ17096',\n",
       " 'CAMPSQ17097',\n",
       " 'CAMPSQ17098',\n",
       " 'CAMPSQ17099',\n",
       " 'CAMPSQ17100',\n",
       " 'CAMPSQ17101',\n",
       " 'CAMPSQ17102',\n",
       " 'CAMPSQ17103',\n",
       " 'CAMPSQ17104',\n",
       " 'CAMPSQ17105',\n",
       " 'CAMPSQ17106',\n",
       " 'CAMPSQ17107',\n",
       " 'CAMPSQ17108',\n",
       " 'CAMPSQ17109',\n",
       " 'CAMPSQ17110',\n",
       " 'CAMPSQ17111',\n",
       " 'CAMPSQ17112',\n",
       " 'CAMPSQ17113',\n",
       " 'CAMPSQ17114',\n",
       " 'CAMPSQ17115',\n",
       " 'CAMPSQ17116',\n",
       " 'CAMPSQ17117',\n",
       " 'CAMPSQ17118',\n",
       " 'CAMPSQ17119',\n",
       " 'CAMPSQ17120',\n",
       " 'CAMPSQ17121',\n",
       " 'CAMPSQ17122',\n",
       " 'CAMPSQ17123',\n",
       " 'CAMPSQ17124',\n",
       " 'CAMPSQ17125',\n",
       " 'CAMPSQ17126',\n",
       " 'CAMPSQ17127',\n",
       " 'CAMPSQ17128',\n",
       " 'CAMPSQ17129',\n",
       " 'CAMPSQ17130',\n",
       " 'CAMPSQ17131',\n",
       " 'CAMPSQ17132',\n",
       " 'CAMPSQ17133',\n",
       " 'CAMPSQ17328',\n",
       " 'CAMPSQ17329',\n",
       " 'CAMPSQ17330',\n",
       " 'CAMPSQ17331',\n",
       " 'CAMPSQ17332',\n",
       " 'CAMPSQ17333',\n",
       " 'CAMPSQ17334',\n",
       " 'CAMPSQ17335',\n",
       " 'CAMPSQ17336',\n",
       " 'CAMPSQ17337',\n",
       " 'CAMPSQ17338',\n",
       " 'CAMPSQ17339',\n",
       " 'CAMPSQ17340',\n",
       " 'CAMPSQ17341',\n",
       " 'CAMPSQ17342']"
      ]
     },
     "execution_count": 35,
     "metadata": {},
     "output_type": "execute_result"
    }
   ],
   "execution_count": 35
  },
  {
   "metadata": {
    "ExecuteTime": {
     "end_time": "2025-07-24T18:58:25.092428Z",
     "start_time": "2025-07-24T18:58:25.077816Z"
    }
   },
   "cell_type": "code",
   "source": [
    "# 读取两个文件\n",
    "with open(\"valid_amp_ids.txt\") as f1, open(\"valid_amp_ids2.txt\") as f2:\n",
    "    ids1 = set(line.strip() for line in f1 if line.strip())\n",
    "    ids2 = set(line.strip() for line in f2 if line.strip())\n",
    "\n",
    "# 合并 + 去重\n",
    "combined_ids = sorted(ids1.union(ids2))  # 排序后输出\n",
    "\n",
    "# 保存为新文件\n",
    "with open(\"combined_amp_ids.txt\", \"w\") as fout:\n",
    "    for amp_id in combined_ids:\n",
    "        fout.write(amp_id + \"\\n\")\n",
    "\n",
    "print(f\"✅ 合并完成，共 {len(combined_ids)} 条，已保存为 combined_amp_ids.txt\")\n"
   ],
   "id": "9cbdb299d2be72be",
   "outputs": [
    {
     "name": "stdout",
     "output_type": "stream",
     "text": [
      "✅ 合并完成，共 15725 条，已保存为 combined_amp_ids.txt\n"
     ]
    }
   ],
   "execution_count": 42
  },
  {
   "metadata": {
    "collapsed": true,
    "ExecuteTime": {
     "end_time": "2025-07-24T21:53:35.677609Z",
     "start_time": "2025-07-24T18:58:54.311308Z"
    }
   },
   "cell_type": "code",
   "source": [
    "import requests\n",
    "from bs4 import BeautifulSoup\n",
    "import pandas as pd\n",
    "from tqdm import tqdm\n",
    "import re\n",
    "\n",
    "# ✅ 读取合并后的 AMP ID 列表\n",
    "with open(\"combined_amp_ids.txt\") as f:\n",
    "    amp_ids = [line.strip() for line in f if line.strip()]\n",
    "\n",
    "activity_data = []\n",
    "hemolysis_data = []\n",
    "\n",
    "# ✅ 遍历每个 AMP ID\n",
    "for amp_id in tqdm(amp_ids, desc=\"抓取 AMP 页面数据\"):\n",
    "    url = f\"https://camp.bicnirrh.res.in/seqDisp.php?id={amp_id}\"\n",
    "\n",
    "    try:\n",
    "        res = requests.get(url, timeout=10)\n",
    "        soup = BeautifulSoup(res.content, 'html.parser')\n",
    "\n",
    "        # 序列\n",
    "        seq_tag = soup.find(\"td\", class_=\"fasta\")\n",
    "        sequence = seq_tag.text.strip() if seq_tag else None\n",
    "\n",
    "        # ID\n",
    "        id_tag = soup.find(\"td\", class_=\"parahead\")\n",
    "        amp_id_extracted = id_tag.text.strip() if id_tag else amp_id\n",
    "\n",
    "        # Validated\n",
    "        validated = None\n",
    "        validated_tag = soup.find(\"b\", text=\"Validated :\")\n",
    "        if validated_tag:\n",
    "            validated = validated_tag.find_parent(\"td\").find_next_sibling(\"td\").text.strip()\n",
    "\n",
    "        # Target 区块提取 MIC 数据\n",
    "        microbe_list = []\n",
    "        target_tag = soup.find(\"b\", text=\"Target :\")\n",
    "        if target_tag:\n",
    "            target_text = target_tag.find_parent(\"td\").find_next_sibling(\"td\").text.strip()\n",
    "            pattern = r\"([^()]+?)\\s*\\(MIC\\s*=\\s*(>?[\\d\\.]+)\\s*(microg/ml)\\)\"\n",
    "            matches = re.findall(pattern, target_text)\n",
    "            for microbe, value, unit in matches:\n",
    "                microbe_list.append({\n",
    "                    \"抵抗微生物名\": microbe.strip(),\n",
    "                    \"value\": value.strip(),\n",
    "                    \"unit\": unit.strip()\n",
    "                })\n",
    "\n",
    "        # 溶血毒性\n",
    "        hemo_tag = soup.find(\"b\", text=\"Hemolytic Activity :\")\n",
    "        hemolytic_activity = None\n",
    "        if hemo_tag:\n",
    "            hemolytic_activity = hemo_tag.find_parent(\"td\").find_next_sibling(\"td\").text.strip()\n",
    "\n",
    "        # 抗菌活性写入\n",
    "        for entry in microbe_list:\n",
    "            activity_data.append({\n",
    "                \"AMP ID\": amp_id_extracted,\n",
    "                \"抵抗微生物名\": entry[\"抵抗微生物名\"],\n",
    "                \"sequence\": sequence,\n",
    "                \"unit\": entry[\"unit\"],\n",
    "                \"value\": entry[\"value\"],\n",
    "                \"experiment-validated\": validated,\n",
    "                \"url_source\": url\n",
    "            })\n",
    "\n",
    "        # 溶血活性写入\n",
    "        if hemolytic_activity:\n",
    "            hemolysis_data.append({\n",
    "                \"AMP ID\": amp_id_extracted,\n",
    "                \"sequence\": sequence,\n",
    "                \"Hemolytic Activity\": hemolytic_activity\n",
    "            })\n",
    "\n",
    "    except Exception as e:\n",
    "        print(f\"[跳过] {url} 错误: {e}\")\n",
    "        continue\n",
    "\n",
    "# ✅ 保存为 CSV\n",
    "pd.DataFrame(activity_data).to_csv(\"CAMP_activity_data.csv\", index=False)\n",
    "pd.DataFrame(hemolysis_data).to_csv(\"CAMP_hemolysis_data.csv\", index=False)\n",
    "\n",
    "print(\"✅ 所有 AMP 页面数据抓取完成，已保存 CSV\")\n"
   ],
   "id": "initial_id",
   "outputs": [
    {
     "name": "stderr",
     "output_type": "stream",
     "text": [
      "抓取 AMP 页面数据:   0%|          | 0/15725 [00:00<?, ?it/s]/var/folders/mt/p__d1qpx5t7_15k290d797x80000gn/T/ipykernel_94053/2013567864.py:32: DeprecationWarning: The 'text' argument to find()-type methods is deprecated. Use 'string' instead.\n",
      "  validated_tag = soup.find(\"b\", text=\"Validated :\")\n",
      "/var/folders/mt/p__d1qpx5t7_15k290d797x80000gn/T/ipykernel_94053/2013567864.py:38: DeprecationWarning: The 'text' argument to find()-type methods is deprecated. Use 'string' instead.\n",
      "  target_tag = soup.find(\"b\", text=\"Target :\")\n",
      "/var/folders/mt/p__d1qpx5t7_15k290d797x80000gn/T/ipykernel_94053/2013567864.py:51: DeprecationWarning: The 'text' argument to find()-type methods is deprecated. Use 'string' instead.\n",
      "  hemo_tag = soup.find(\"b\", text=\"Hemolytic Activity :\")\n",
      "抓取 AMP 页面数据:   2%|▏         | 323/15725 [03:48<14:43:52,  3.44s/it]"
     ]
    },
    {
     "name": "stdout",
     "output_type": "stream",
     "text": [
      "[跳过] https://camp.bicnirrh.res.in/seqDisp.php?id=CAMPSQ10342 错误: HTTPSConnectionPool(host='camp.bicnirrh.res.in', port=443): Read timed out. (read timeout=10)\n"
     ]
    },
    {
     "name": "stderr",
     "output_type": "stream",
     "text": [
      "抓取 AMP 页面数据:   2%|▏         | 324/15725 [03:53<16:44:08,  3.91s/it]"
     ]
    },
    {
     "name": "stdout",
     "output_type": "stream",
     "text": [
      "[跳过] https://camp.bicnirrh.res.in/seqDisp.php?id=CAMPSQ10343 错误: ('Connection aborted.', ConnectionResetError(54, 'Connection reset by peer'))\n"
     ]
    },
    {
     "name": "stderr",
     "output_type": "stream",
     "text": [
      "抓取 AMP 页面数据:   2%|▏         | 325/15725 [03:58<18:08:21,  4.24s/it]"
     ]
    },
    {
     "name": "stdout",
     "output_type": "stream",
     "text": [
      "[跳过] https://camp.bicnirrh.res.in/seqDisp.php?id=CAMPSQ10344 错误: ('Connection aborted.', ConnectionResetError(54, 'Connection reset by peer'))\n"
     ]
    },
    {
     "name": "stderr",
     "output_type": "stream",
     "text": [
      "抓取 AMP 页面数据:   2%|▏         | 326/15725 [04:03<19:07:08,  4.47s/it]"
     ]
    },
    {
     "name": "stdout",
     "output_type": "stream",
     "text": [
      "[跳过] https://camp.bicnirrh.res.in/seqDisp.php?id=CAMPSQ10345 错误: ('Connection aborted.', ConnectionResetError(54, 'Connection reset by peer'))\n"
     ]
    },
    {
     "name": "stderr",
     "output_type": "stream",
     "text": [
      "抓取 AMP 页面数据:   2%|▏         | 327/15725 [04:08<19:48:22,  4.63s/it]"
     ]
    },
    {
     "name": "stdout",
     "output_type": "stream",
     "text": [
      "[跳过] https://camp.bicnirrh.res.in/seqDisp.php?id=CAMPSQ10347 错误: ('Connection aborted.', ConnectionResetError(54, 'Connection reset by peer'))\n"
     ]
    },
    {
     "name": "stderr",
     "output_type": "stream",
     "text": [
      "抓取 AMP 页面数据:   2%|▏         | 328/15725 [04:13<20:17:10,  4.74s/it]"
     ]
    },
    {
     "name": "stdout",
     "output_type": "stream",
     "text": [
      "[跳过] https://camp.bicnirrh.res.in/seqDisp.php?id=CAMPSQ10348 错误: ('Connection aborted.', ConnectionResetError(54, 'Connection reset by peer'))\n"
     ]
    },
    {
     "name": "stderr",
     "output_type": "stream",
     "text": [
      "抓取 AMP 页面数据:   2%|▏         | 329/15725 [04:18<20:37:19,  4.82s/it]"
     ]
    },
    {
     "name": "stdout",
     "output_type": "stream",
     "text": [
      "[跳过] https://camp.bicnirrh.res.in/seqDisp.php?id=CAMPSQ10349 错误: ('Connection aborted.', ConnectionResetError(54, 'Connection reset by peer'))\n"
     ]
    },
    {
     "name": "stderr",
     "output_type": "stream",
     "text": [
      "抓取 AMP 页面数据:   2%|▏         | 330/15725 [04:23<20:51:24,  4.88s/it]"
     ]
    },
    {
     "name": "stdout",
     "output_type": "stream",
     "text": [
      "[跳过] https://camp.bicnirrh.res.in/seqDisp.php?id=CAMPSQ10351 错误: ('Connection aborted.', ConnectionResetError(54, 'Connection reset by peer'))\n"
     ]
    },
    {
     "name": "stderr",
     "output_type": "stream",
     "text": [
      "抓取 AMP 页面数据:   2%|▏         | 331/15725 [04:28<21:01:12,  4.92s/it]"
     ]
    },
    {
     "name": "stdout",
     "output_type": "stream",
     "text": [
      "[跳过] https://camp.bicnirrh.res.in/seqDisp.php?id=CAMPSQ10352 错误: ('Connection aborted.', ConnectionResetError(54, 'Connection reset by peer'))\n"
     ]
    },
    {
     "name": "stderr",
     "output_type": "stream",
     "text": [
      "抓取 AMP 页面数据:   2%|▏         | 332/15725 [04:33<21:08:04,  4.94s/it]"
     ]
    },
    {
     "name": "stdout",
     "output_type": "stream",
     "text": [
      "[跳过] https://camp.bicnirrh.res.in/seqDisp.php?id=CAMPSQ10353 错误: ('Connection aborted.', ConnectionResetError(54, 'Connection reset by peer'))\n"
     ]
    },
    {
     "name": "stderr",
     "output_type": "stream",
     "text": [
      "抓取 AMP 页面数据:   2%|▏         | 333/15725 [04:38<21:12:56,  4.96s/it]"
     ]
    },
    {
     "name": "stdout",
     "output_type": "stream",
     "text": [
      "[跳过] https://camp.bicnirrh.res.in/seqDisp.php?id=CAMPSQ10354 错误: ('Connection aborted.', ConnectionResetError(54, 'Connection reset by peer'))\n"
     ]
    },
    {
     "name": "stderr",
     "output_type": "stream",
     "text": [
      "抓取 AMP 页面数据:   2%|▏         | 335/15725 [04:44<17:28:03,  4.09s/it]"
     ]
    },
    {
     "name": "stdout",
     "output_type": "stream",
     "text": [
      "[跳过] https://camp.bicnirrh.res.in/seqDisp.php?id=CAMPSQ1037 错误: ('Connection aborted.', ConnectionResetError(54, 'Connection reset by peer'))\n"
     ]
    },
    {
     "name": "stderr",
     "output_type": "stream",
     "text": [
      "抓取 AMP 页面数据:   2%|▏         | 336/15725 [04:49<18:38:46,  4.36s/it]"
     ]
    },
    {
     "name": "stdout",
     "output_type": "stream",
     "text": [
      "[跳过] https://camp.bicnirrh.res.in/seqDisp.php?id=CAMPSQ10371 错误: ('Connection aborted.', ConnectionResetError(54, 'Connection reset by peer'))\n"
     ]
    },
    {
     "name": "stderr",
     "output_type": "stream",
     "text": [
      "抓取 AMP 页面数据:   2%|▏         | 337/15725 [04:54<19:28:26,  4.56s/it]"
     ]
    },
    {
     "name": "stdout",
     "output_type": "stream",
     "text": [
      "[跳过] https://camp.bicnirrh.res.in/seqDisp.php?id=CAMPSQ10372 错误: ('Connection aborted.', ConnectionResetError(54, 'Connection reset by peer'))\n"
     ]
    },
    {
     "name": "stderr",
     "output_type": "stream",
     "text": [
      "抓取 AMP 页面数据:   2%|▏         | 338/15725 [04:59<20:03:13,  4.69s/it]"
     ]
    },
    {
     "name": "stdout",
     "output_type": "stream",
     "text": [
      "[跳过] https://camp.bicnirrh.res.in/seqDisp.php?id=CAMPSQ10373 错误: ('Connection aborted.', ConnectionResetError(54, 'Connection reset by peer'))\n"
     ]
    },
    {
     "name": "stderr",
     "output_type": "stream",
     "text": [
      "抓取 AMP 页面数据:   2%|▏         | 340/15725 [05:04<16:47:29,  3.93s/it]"
     ]
    },
    {
     "name": "stdout",
     "output_type": "stream",
     "text": [
      "[跳过] https://camp.bicnirrh.res.in/seqDisp.php?id=CAMPSQ10375 错误: ('Connection aborted.', ConnectionResetError(54, 'Connection reset by peer'))\n"
     ]
    },
    {
     "name": "stderr",
     "output_type": "stream",
     "text": [
      "抓取 AMP 页面数据:   2%|▏         | 341/15725 [05:09<18:10:22,  4.25s/it]"
     ]
    },
    {
     "name": "stdout",
     "output_type": "stream",
     "text": [
      "[跳过] https://camp.bicnirrh.res.in/seqDisp.php?id=CAMPSQ10376 错误: ('Connection aborted.', ConnectionResetError(54, 'Connection reset by peer'))\n"
     ]
    },
    {
     "name": "stderr",
     "output_type": "stream",
     "text": [
      "抓取 AMP 页面数据:  28%|██▊       | 4455/15725 [50:19<4:28:42,  1.43s/it]"
     ]
    },
    {
     "name": "stdout",
     "output_type": "stream",
     "text": [
      "[跳过] https://camp.bicnirrh.res.in/seqDisp.php?id=CAMPSQ16486 错误: HTTPSConnectionPool(host='camp.bicnirrh.res.in', port=443): Max retries exceeded with url: /seqDisp.php?id=CAMPSQ16486 (Caused by SSLError(SSLEOFError(8, '[SSL: UNEXPECTED_EOF_WHILE_READING] EOF occurred in violation of protocol (_ssl.c:1006)')))\n"
     ]
    },
    {
     "name": "stderr",
     "output_type": "stream",
     "text": [
      "抓取 AMP 页面数据:  35%|███▍      | 5441/15725 [1:01:12<1:09:16,  2.47it/s]"
     ]
    },
    {
     "name": "stdout",
     "output_type": "stream",
     "text": [
      "[跳过] https://camp.bicnirrh.res.in/seqDisp.php?id=CAMPSQ18317 错误: HTTPSConnectionPool(host='camp.bicnirrh.res.in', port=443): Max retries exceeded with url: /seqDisp.php?id=CAMPSQ18317 (Caused by SSLError(SSLEOFError(8, '[SSL: UNEXPECTED_EOF_WHILE_READING] EOF occurred in violation of protocol (_ssl.c:1006)')))\n",
      "[跳过] https://camp.bicnirrh.res.in/seqDisp.php?id=CAMPSQ18318 错误: HTTPSConnectionPool(host='camp.bicnirrh.res.in', port=443): Max retries exceeded with url: /seqDisp.php?id=CAMPSQ18318 (Caused by SSLError(SSLEOFError(8, '[SSL: UNEXPECTED_EOF_WHILE_READING] EOF occurred in violation of protocol (_ssl.c:1006)')))\n"
     ]
    },
    {
     "name": "stderr",
     "output_type": "stream",
     "text": [
      "抓取 AMP 页面数据:  35%|███▍      | 5444/15725 [1:01:12<38:33,  4.44it/s]  "
     ]
    },
    {
     "name": "stdout",
     "output_type": "stream",
     "text": [
      "[跳过] https://camp.bicnirrh.res.in/seqDisp.php?id=CAMPSQ18319 错误: HTTPSConnectionPool(host='camp.bicnirrh.res.in', port=443): Max retries exceeded with url: /seqDisp.php?id=CAMPSQ18319 (Caused by SSLError(SSLEOFError(8, '[SSL: UNEXPECTED_EOF_WHILE_READING] EOF occurred in violation of protocol (_ssl.c:1006)')))\n",
      "[跳过] https://camp.bicnirrh.res.in/seqDisp.php?id=CAMPSQ18320 错误: HTTPSConnectionPool(host='camp.bicnirrh.res.in', port=443): Max retries exceeded with url: /seqDisp.php?id=CAMPSQ18320 (Caused by SSLError(SSLEOFError(8, '[SSL: UNEXPECTED_EOF_WHILE_READING] EOF occurred in violation of protocol (_ssl.c:1006)')))\n",
      "[跳过] https://camp.bicnirrh.res.in/seqDisp.php?id=CAMPSQ18321 错误: HTTPSConnectionPool(host='camp.bicnirrh.res.in', port=443): Max retries exceeded with url: /seqDisp.php?id=CAMPSQ18321 (Caused by SSLError(SSLEOFError(8, '[SSL: UNEXPECTED_EOF_WHILE_READING] EOF occurred in violation of protocol (_ssl.c:1006)')))\n"
     ]
    },
    {
     "name": "stderr",
     "output_type": "stream",
     "text": [
      "抓取 AMP 页面数据:  35%|███▍      | 5446/15725 [1:01:12<29:41,  5.77it/s]"
     ]
    },
    {
     "name": "stdout",
     "output_type": "stream",
     "text": [
      "[跳过] https://camp.bicnirrh.res.in/seqDisp.php?id=CAMPSQ18322 错误: HTTPSConnectionPool(host='camp.bicnirrh.res.in', port=443): Max retries exceeded with url: /seqDisp.php?id=CAMPSQ18322 (Caused by SSLError(SSLEOFError(8, '[SSL: UNEXPECTED_EOF_WHILE_READING] EOF occurred in violation of protocol (_ssl.c:1006)')))\n",
      "[跳过] https://camp.bicnirrh.res.in/seqDisp.php?id=CAMPSQ18323 错误: HTTPSConnectionPool(host='camp.bicnirrh.res.in', port=443): Max retries exceeded with url: /seqDisp.php?id=CAMPSQ18323 (Caused by SSLError(SSLEOFError(8, '[SSL: UNEXPECTED_EOF_WHILE_READING] EOF occurred in violation of protocol (_ssl.c:1006)')))\n"
     ]
    },
    {
     "name": "stderr",
     "output_type": "stream",
     "text": [
      "抓取 AMP 页面数据:  35%|███▍      | 5449/15725 [1:01:13<23:58,  7.14it/s]"
     ]
    },
    {
     "name": "stdout",
     "output_type": "stream",
     "text": [
      "[跳过] https://camp.bicnirrh.res.in/seqDisp.php?id=CAMPSQ18324 错误: HTTPSConnectionPool(host='camp.bicnirrh.res.in', port=443): Max retries exceeded with url: /seqDisp.php?id=CAMPSQ18324 (Caused by SSLError(SSLEOFError(8, '[SSL: UNEXPECTED_EOF_WHILE_READING] EOF occurred in violation of protocol (_ssl.c:1006)')))\n",
      "[跳过] https://camp.bicnirrh.res.in/seqDisp.php?id=CAMPSQ18325 错误: HTTPSConnectionPool(host='camp.bicnirrh.res.in', port=443): Max retries exceeded with url: /seqDisp.php?id=CAMPSQ18325 (Caused by SSLError(SSLEOFError(8, '[SSL: UNEXPECTED_EOF_WHILE_READING] EOF occurred in violation of protocol (_ssl.c:1006)')))\n",
      "[跳过] https://camp.bicnirrh.res.in/seqDisp.php?id=CAMPSQ18326 错误: HTTPSConnectionPool(host='camp.bicnirrh.res.in', port=443): Max retries exceeded with url: /seqDisp.php?id=CAMPSQ18326 (Caused by SSLError(SSLEOFError(8, '[SSL: UNEXPECTED_EOF_WHILE_READING] EOF occurred in violation of protocol (_ssl.c:1006)')))\n"
     ]
    },
    {
     "name": "stderr",
     "output_type": "stream",
     "text": [
      "抓取 AMP 页面数据:  35%|███▍      | 5451/15725 [1:01:13<24:05,  7.11it/s]"
     ]
    },
    {
     "name": "stdout",
     "output_type": "stream",
     "text": [
      "[跳过] https://camp.bicnirrh.res.in/seqDisp.php?id=CAMPSQ18327 错误: HTTPSConnectionPool(host='camp.bicnirrh.res.in', port=443): Max retries exceeded with url: /seqDisp.php?id=CAMPSQ18327 (Caused by SSLError(SSLEOFError(8, '[SSL: UNEXPECTED_EOF_WHILE_READING] EOF occurred in violation of protocol (_ssl.c:1006)')))\n",
      "[跳过] https://camp.bicnirrh.res.in/seqDisp.php?id=CAMPSQ18328 错误: HTTPSConnectionPool(host='camp.bicnirrh.res.in', port=443): Max retries exceeded with url: /seqDisp.php?id=CAMPSQ18328 (Caused by SSLError(SSLEOFError(8, '[SSL: UNEXPECTED_EOF_WHILE_READING] EOF occurred in violation of protocol (_ssl.c:1006)')))\n"
     ]
    },
    {
     "name": "stderr",
     "output_type": "stream",
     "text": [
      "抓取 AMP 页面数据:  35%|███▍      | 5453/15725 [1:01:13<21:14,  8.06it/s]"
     ]
    },
    {
     "name": "stdout",
     "output_type": "stream",
     "text": [
      "[跳过] https://camp.bicnirrh.res.in/seqDisp.php?id=CAMPSQ18329 错误: HTTPSConnectionPool(host='camp.bicnirrh.res.in', port=443): Max retries exceeded with url: /seqDisp.php?id=CAMPSQ18329 (Caused by SSLError(SSLEOFError(8, '[SSL: UNEXPECTED_EOF_WHILE_READING] EOF occurred in violation of protocol (_ssl.c:1006)')))\n",
      "[跳过] https://camp.bicnirrh.res.in/seqDisp.php?id=CAMPSQ18330 错误: HTTPSConnectionPool(host='camp.bicnirrh.res.in', port=443): Max retries exceeded with url: /seqDisp.php?id=CAMPSQ18330 (Caused by SSLError(SSLEOFError(8, '[SSL: UNEXPECTED_EOF_WHILE_READING] EOF occurred in violation of protocol (_ssl.c:1006)')))\n",
      "[跳过] https://camp.bicnirrh.res.in/seqDisp.php?id=CAMPSQ18331 错误: HTTPSConnectionPool(host='camp.bicnirrh.res.in', port=443): Max retries exceeded with url: /seqDisp.php?id=CAMPSQ18331 (Caused by SSLError(SSLEOFError(8, '[SSL: UNEXPECTED_EOF_WHILE_READING] EOF occurred in violation of protocol (_ssl.c:1006)')))\n"
     ]
    },
    {
     "name": "stderr",
     "output_type": "stream",
     "text": [
      "抓取 AMP 页面数据:  35%|███▍      | 5456/15725 [1:01:14<20:52,  8.20it/s]"
     ]
    },
    {
     "name": "stdout",
     "output_type": "stream",
     "text": [
      "[跳过] https://camp.bicnirrh.res.in/seqDisp.php?id=CAMPSQ18332 错误: HTTPSConnectionPool(host='camp.bicnirrh.res.in', port=443): Max retries exceeded with url: /seqDisp.php?id=CAMPSQ18332 (Caused by SSLError(SSLEOFError(8, '[SSL: UNEXPECTED_EOF_WHILE_READING] EOF occurred in violation of protocol (_ssl.c:1006)')))\n",
      "[跳过] https://camp.bicnirrh.res.in/seqDisp.php?id=CAMPSQ18333 错误: HTTPSConnectionPool(host='camp.bicnirrh.res.in', port=443): Max retries exceeded with url: /seqDisp.php?id=CAMPSQ18333 (Caused by SSLError(SSLEOFError(8, '[SSL: UNEXPECTED_EOF_WHILE_READING] EOF occurred in violation of protocol (_ssl.c:1006)')))\n"
     ]
    },
    {
     "name": "stderr",
     "output_type": "stream",
     "text": [
      "抓取 AMP 页面数据:  35%|███▍      | 5458/15725 [1:01:14<19:27,  8.79it/s]"
     ]
    },
    {
     "name": "stdout",
     "output_type": "stream",
     "text": [
      "[跳过] https://camp.bicnirrh.res.in/seqDisp.php?id=CAMPSQ18334 错误: HTTPSConnectionPool(host='camp.bicnirrh.res.in', port=443): Max retries exceeded with url: /seqDisp.php?id=CAMPSQ18334 (Caused by SSLError(SSLEOFError(8, '[SSL: UNEXPECTED_EOF_WHILE_READING] EOF occurred in violation of protocol (_ssl.c:1006)')))\n",
      "[跳过] https://camp.bicnirrh.res.in/seqDisp.php?id=CAMPSQ18335 错误: HTTPSConnectionPool(host='camp.bicnirrh.res.in', port=443): Max retries exceeded with url: /seqDisp.php?id=CAMPSQ18335 (Caused by SSLError(SSLEOFError(8, '[SSL: UNEXPECTED_EOF_WHILE_READING] EOF occurred in violation of protocol (_ssl.c:1006)')))\n"
     ]
    },
    {
     "name": "stderr",
     "output_type": "stream",
     "text": [
      "抓取 AMP 页面数据:  35%|███▍      | 5459/15725 [1:01:14<19:14,  8.89it/s]"
     ]
    },
    {
     "name": "stdout",
     "output_type": "stream",
     "text": [
      "[跳过] https://camp.bicnirrh.res.in/seqDisp.php?id=CAMPSQ18336 错误: HTTPSConnectionPool(host='camp.bicnirrh.res.in', port=443): Max retries exceeded with url: /seqDisp.php?id=CAMPSQ18336 (Caused by SSLError(SSLEOFError(8, '[SSL: UNEXPECTED_EOF_WHILE_READING] EOF occurred in violation of protocol (_ssl.c:1006)')))\n",
      "[跳过] https://camp.bicnirrh.res.in/seqDisp.php?id=CAMPSQ18337 错误: HTTPSConnectionPool(host='camp.bicnirrh.res.in', port=443): Max retries exceeded with url: /seqDisp.php?id=CAMPSQ18337 (Caused by SSLError(SSLEOFError(8, '[SSL: UNEXPECTED_EOF_WHILE_READING] EOF occurred in violation of protocol (_ssl.c:1006)')))\n"
     ]
    },
    {
     "name": "stderr",
     "output_type": "stream",
     "text": [
      "抓取 AMP 页面数据:  35%|███▍      | 5463/15725 [1:01:14<18:58,  9.02it/s]"
     ]
    },
    {
     "name": "stdout",
     "output_type": "stream",
     "text": [
      "[跳过] https://camp.bicnirrh.res.in/seqDisp.php?id=CAMPSQ18338 错误: HTTPSConnectionPool(host='camp.bicnirrh.res.in', port=443): Max retries exceeded with url: /seqDisp.php?id=CAMPSQ18338 (Caused by SSLError(SSLEOFError(8, '[SSL: UNEXPECTED_EOF_WHILE_READING] EOF occurred in violation of protocol (_ssl.c:1006)')))\n",
      "[跳过] https://camp.bicnirrh.res.in/seqDisp.php?id=CAMPSQ18339 错误: HTTPSConnectionPool(host='camp.bicnirrh.res.in', port=443): Max retries exceeded with url: /seqDisp.php?id=CAMPSQ18339 (Caused by SSLError(SSLEOFError(8, '[SSL: UNEXPECTED_EOF_WHILE_READING] EOF occurred in violation of protocol (_ssl.c:1006)')))\n",
      "[跳过] https://camp.bicnirrh.res.in/seqDisp.php?id=CAMPSQ18340 错误: HTTPSConnectionPool(host='camp.bicnirrh.res.in', port=443): Max retries exceeded with url: /seqDisp.php?id=CAMPSQ18340 (Caused by SSLError(SSLEOFError(8, '[SSL: UNEXPECTED_EOF_WHILE_READING] EOF occurred in violation of protocol (_ssl.c:1006)')))\n"
     ]
    },
    {
     "name": "stderr",
     "output_type": "stream",
     "text": [
      "抓取 AMP 页面数据:  35%|███▍      | 5465/15725 [1:01:15<21:28,  7.97it/s]"
     ]
    },
    {
     "name": "stdout",
     "output_type": "stream",
     "text": [
      "[跳过] https://camp.bicnirrh.res.in/seqDisp.php?id=CAMPSQ18341 错误: HTTPSConnectionPool(host='camp.bicnirrh.res.in', port=443): Max retries exceeded with url: /seqDisp.php?id=CAMPSQ18341 (Caused by SSLError(SSLEOFError(8, '[SSL: UNEXPECTED_EOF_WHILE_READING] EOF occurred in violation of protocol (_ssl.c:1006)')))\n",
      "[跳过] https://camp.bicnirrh.res.in/seqDisp.php?id=CAMPSQ18342 错误: HTTPSConnectionPool(host='camp.bicnirrh.res.in', port=443): Max retries exceeded with url: /seqDisp.php?id=CAMPSQ18342 (Caused by SSLError(SSLEOFError(8, '[SSL: UNEXPECTED_EOF_WHILE_READING] EOF occurred in violation of protocol (_ssl.c:1006)')))\n"
     ]
    },
    {
     "name": "stderr",
     "output_type": "stream",
     "text": [
      "抓取 AMP 页面数据:  35%|███▍      | 5468/15725 [1:01:15<18:52,  9.05it/s]"
     ]
    },
    {
     "name": "stdout",
     "output_type": "stream",
     "text": [
      "[跳过] https://camp.bicnirrh.res.in/seqDisp.php?id=CAMPSQ18343 错误: HTTPSConnectionPool(host='camp.bicnirrh.res.in', port=443): Max retries exceeded with url: /seqDisp.php?id=CAMPSQ18343 (Caused by SSLError(SSLEOFError(8, '[SSL: UNEXPECTED_EOF_WHILE_READING] EOF occurred in violation of protocol (_ssl.c:1006)')))\n",
      "[跳过] https://camp.bicnirrh.res.in/seqDisp.php?id=CAMPSQ18344 错误: HTTPSConnectionPool(host='camp.bicnirrh.res.in', port=443): Max retries exceeded with url: /seqDisp.php?id=CAMPSQ18344 (Caused by SSLError(SSLEOFError(8, '[SSL: UNEXPECTED_EOF_WHILE_READING] EOF occurred in violation of protocol (_ssl.c:1006)')))\n",
      "[跳过] https://camp.bicnirrh.res.in/seqDisp.php?id=CAMPSQ18345 错误: HTTPSConnectionPool(host='camp.bicnirrh.res.in', port=443): Max retries exceeded with url: /seqDisp.php?id=CAMPSQ18345 (Caused by SSLError(SSLEOFError(8, '[SSL: UNEXPECTED_EOF_WHILE_READING] EOF occurred in violation of protocol (_ssl.c:1006)')))\n"
     ]
    },
    {
     "name": "stderr",
     "output_type": "stream",
     "text": [
      "抓取 AMP 页面数据:  35%|███▍      | 5470/15725 [1:01:15<19:37,  8.71it/s]"
     ]
    },
    {
     "name": "stdout",
     "output_type": "stream",
     "text": [
      "[跳过] https://camp.bicnirrh.res.in/seqDisp.php?id=CAMPSQ18346 错误: HTTPSConnectionPool(host='camp.bicnirrh.res.in', port=443): Max retries exceeded with url: /seqDisp.php?id=CAMPSQ18346 (Caused by SSLError(SSLEOFError(8, '[SSL: UNEXPECTED_EOF_WHILE_READING] EOF occurred in violation of protocol (_ssl.c:1006)')))\n",
      "[跳过] https://camp.bicnirrh.res.in/seqDisp.php?id=CAMPSQ18347 错误: HTTPSConnectionPool(host='camp.bicnirrh.res.in', port=443): Max retries exceeded with url: /seqDisp.php?id=CAMPSQ18347 (Caused by SSLError(SSLEOFError(8, '[SSL: UNEXPECTED_EOF_WHILE_READING] EOF occurred in violation of protocol (_ssl.c:1006)')))\n"
     ]
    },
    {
     "name": "stderr",
     "output_type": "stream",
     "text": [
      "抓取 AMP 页面数据:  35%|███▍      | 5472/15725 [1:01:15<18:14,  9.37it/s]"
     ]
    },
    {
     "name": "stdout",
     "output_type": "stream",
     "text": [
      "[跳过] https://camp.bicnirrh.res.in/seqDisp.php?id=CAMPSQ18348 错误: HTTPSConnectionPool(host='camp.bicnirrh.res.in', port=443): Max retries exceeded with url: /seqDisp.php?id=CAMPSQ18348 (Caused by SSLError(SSLEOFError(8, '[SSL: UNEXPECTED_EOF_WHILE_READING] EOF occurred in violation of protocol (_ssl.c:1006)')))\n",
      "[跳过] https://camp.bicnirrh.res.in/seqDisp.php?id=CAMPSQ18349 错误: HTTPSConnectionPool(host='camp.bicnirrh.res.in', port=443): Max retries exceeded with url: /seqDisp.php?id=CAMPSQ18349 (Caused by SSLError(SSLEOFError(8, '[SSL: UNEXPECTED_EOF_WHILE_READING] EOF occurred in violation of protocol (_ssl.c:1006)')))\n"
     ]
    },
    {
     "name": "stderr",
     "output_type": "stream",
     "text": [
      "抓取 AMP 页面数据:  35%|███▍      | 5473/15725 [1:01:18<2:00:26,  1.42it/s]"
     ]
    },
    {
     "name": "stdout",
     "output_type": "stream",
     "text": [
      "[跳过] https://camp.bicnirrh.res.in/seqDisp.php?id=CAMPSQ18350 错误: HTTPSConnectionPool(host='camp.bicnirrh.res.in', port=443): Max retries exceeded with url: /seqDisp.php?id=CAMPSQ18350 (Caused by SSLError(SSLEOFError(8, '[SSL: UNEXPECTED_EOF_WHILE_READING] EOF occurred in violation of protocol (_ssl.c:1006)')))\n"
     ]
    },
    {
     "name": "stderr",
     "output_type": "stream",
     "text": [
      "抓取 AMP 页面数据:  35%|███▍      | 5474/15725 [1:01:21<3:31:20,  1.24s/it]"
     ]
    },
    {
     "name": "stdout",
     "output_type": "stream",
     "text": [
      "[跳过] https://camp.bicnirrh.res.in/seqDisp.php?id=CAMPSQ18351 错误: HTTPSConnectionPool(host='camp.bicnirrh.res.in', port=443): Max retries exceeded with url: /seqDisp.php?id=CAMPSQ18351 (Caused by SSLError(SSLEOFError(8, '[SSL: UNEXPECTED_EOF_WHILE_READING] EOF occurred in violation of protocol (_ssl.c:1006)')))\n"
     ]
    },
    {
     "name": "stderr",
     "output_type": "stream",
     "text": [
      "抓取 AMP 页面数据:  35%|███▍      | 5475/15725 [1:01:25<4:47:49,  1.68s/it]"
     ]
    },
    {
     "name": "stdout",
     "output_type": "stream",
     "text": [
      "[跳过] https://camp.bicnirrh.res.in/seqDisp.php?id=CAMPSQ18352 错误: HTTPSConnectionPool(host='camp.bicnirrh.res.in', port=443): Max retries exceeded with url: /seqDisp.php?id=CAMPSQ18352 (Caused by SSLError(SSLEOFError(8, '[SSL: UNEXPECTED_EOF_WHILE_READING] EOF occurred in violation of protocol (_ssl.c:1006)')))\n"
     ]
    },
    {
     "name": "stderr",
     "output_type": "stream",
     "text": [
      "抓取 AMP 页面数据:  35%|███▍      | 5476/15725 [1:01:28<5:51:23,  2.06s/it]"
     ]
    },
    {
     "name": "stdout",
     "output_type": "stream",
     "text": [
      "[跳过] https://camp.bicnirrh.res.in/seqDisp.php?id=CAMPSQ18353 错误: HTTPSConnectionPool(host='camp.bicnirrh.res.in', port=443): Max retries exceeded with url: /seqDisp.php?id=CAMPSQ18353 (Caused by SSLError(SSLEOFError(8, '[SSL: UNEXPECTED_EOF_WHILE_READING] EOF occurred in violation of protocol (_ssl.c:1006)')))\n"
     ]
    },
    {
     "name": "stderr",
     "output_type": "stream",
     "text": [
      "抓取 AMP 页面数据:  35%|███▍      | 5479/15725 [1:01:29<3:04:46,  1.08s/it]"
     ]
    },
    {
     "name": "stdout",
     "output_type": "stream",
     "text": [
      "[跳过] https://camp.bicnirrh.res.in/seqDisp.php?id=CAMPSQ18354 错误: HTTPSConnectionPool(host='camp.bicnirrh.res.in', port=443): Max retries exceeded with url: /seqDisp.php?id=CAMPSQ18354 (Caused by SSLError(SSLEOFError(8, '[SSL: UNEXPECTED_EOF_WHILE_READING] EOF occurred in violation of protocol (_ssl.c:1006)')))\n",
      "[跳过] https://camp.bicnirrh.res.in/seqDisp.php?id=CAMPSQ18355 错误: HTTPSConnectionPool(host='camp.bicnirrh.res.in', port=443): Max retries exceeded with url: /seqDisp.php?id=CAMPSQ18355 (Caused by SSLError(SSLEOFError(8, '[SSL: UNEXPECTED_EOF_WHILE_READING] EOF occurred in violation of protocol (_ssl.c:1006)')))\n",
      "[跳过] https://camp.bicnirrh.res.in/seqDisp.php?id=CAMPSQ18356 错误: HTTPSConnectionPool(host='camp.bicnirrh.res.in', port=443): Max retries exceeded with url: /seqDisp.php?id=CAMPSQ18356 (Caused by SSLError(SSLEOFError(8, '[SSL: UNEXPECTED_EOF_WHILE_READING] EOF occurred in violation of protocol (_ssl.c:1006)')))\n"
     ]
    },
    {
     "name": "stderr",
     "output_type": "stream",
     "text": [
      "抓取 AMP 页面数据:  35%|███▍      | 5482/15725 [1:01:29<1:34:00,  1.82it/s]"
     ]
    },
    {
     "name": "stdout",
     "output_type": "stream",
     "text": [
      "[跳过] https://camp.bicnirrh.res.in/seqDisp.php?id=CAMPSQ18357 错误: HTTPSConnectionPool(host='camp.bicnirrh.res.in', port=443): Max retries exceeded with url: /seqDisp.php?id=CAMPSQ18357 (Caused by SSLError(SSLEOFError(8, '[SSL: UNEXPECTED_EOF_WHILE_READING] EOF occurred in violation of protocol (_ssl.c:1006)')))\n",
      "[跳过] https://camp.bicnirrh.res.in/seqDisp.php?id=CAMPSQ18358 错误: HTTPSConnectionPool(host='camp.bicnirrh.res.in', port=443): Max retries exceeded with url: /seqDisp.php?id=CAMPSQ18358 (Caused by SSLError(SSLEOFError(8, '[SSL: UNEXPECTED_EOF_WHILE_READING] EOF occurred in violation of protocol (_ssl.c:1006)')))\n",
      "[跳过] https://camp.bicnirrh.res.in/seqDisp.php?id=CAMPSQ18359 错误: HTTPSConnectionPool(host='camp.bicnirrh.res.in', port=443): Max retries exceeded with url: /seqDisp.php?id=CAMPSQ18359 (Caused by SSLError(SSLEOFError(8, '[SSL: UNEXPECTED_EOF_WHILE_READING] EOF occurred in violation of protocol (_ssl.c:1006)')))\n"
     ]
    },
    {
     "name": "stderr",
     "output_type": "stream",
     "text": [
      "抓取 AMP 页面数据:  35%|███▍      | 5484/15725 [1:01:30<1:05:48,  2.59it/s]"
     ]
    },
    {
     "name": "stdout",
     "output_type": "stream",
     "text": [
      "[跳过] https://camp.bicnirrh.res.in/seqDisp.php?id=CAMPSQ18360 错误: HTTPSConnectionPool(host='camp.bicnirrh.res.in', port=443): Max retries exceeded with url: /seqDisp.php?id=CAMPSQ18360 (Caused by SSLError(SSLEOFError(8, '[SSL: UNEXPECTED_EOF_WHILE_READING] EOF occurred in violation of protocol (_ssl.c:1006)')))\n",
      "[跳过] https://camp.bicnirrh.res.in/seqDisp.php?id=CAMPSQ18361 错误: HTTPSConnectionPool(host='camp.bicnirrh.res.in', port=443): Max retries exceeded with url: /seqDisp.php?id=CAMPSQ18361 (Caused by SSLError(SSLEOFError(8, '[SSL: UNEXPECTED_EOF_WHILE_READING] EOF occurred in violation of protocol (_ssl.c:1006)')))\n"
     ]
    },
    {
     "name": "stderr",
     "output_type": "stream",
     "text": [
      "抓取 AMP 页面数据:  35%|███▍      | 5487/15725 [1:01:30<42:01,  4.06it/s]  "
     ]
    },
    {
     "name": "stdout",
     "output_type": "stream",
     "text": [
      "[跳过] https://camp.bicnirrh.res.in/seqDisp.php?id=CAMPSQ18362 错误: HTTPSConnectionPool(host='camp.bicnirrh.res.in', port=443): Max retries exceeded with url: /seqDisp.php?id=CAMPSQ18362 (Caused by SSLError(SSLEOFError(8, '[SSL: UNEXPECTED_EOF_WHILE_READING] EOF occurred in violation of protocol (_ssl.c:1006)')))\n",
      "[跳过] https://camp.bicnirrh.res.in/seqDisp.php?id=CAMPSQ18363 错误: HTTPSConnectionPool(host='camp.bicnirrh.res.in', port=443): Max retries exceeded with url: /seqDisp.php?id=CAMPSQ18363 (Caused by SSLError(SSLEOFError(8, '[SSL: UNEXPECTED_EOF_WHILE_READING] EOF occurred in violation of protocol (_ssl.c:1006)')))\n",
      "[跳过] https://camp.bicnirrh.res.in/seqDisp.php?id=CAMPSQ18364 错误: HTTPSConnectionPool(host='camp.bicnirrh.res.in', port=443): Max retries exceeded with url: /seqDisp.php?id=CAMPSQ18364 (Caused by SSLError(SSLEOFError(8, '[SSL: UNEXPECTED_EOF_WHILE_READING] EOF occurred in violation of protocol (_ssl.c:1006)')))\n"
     ]
    },
    {
     "name": "stderr",
     "output_type": "stream",
     "text": [
      "抓取 AMP 页面数据:  35%|███▍      | 5489/15725 [1:01:30<33:03,  5.16it/s]"
     ]
    },
    {
     "name": "stdout",
     "output_type": "stream",
     "text": [
      "[跳过] https://camp.bicnirrh.res.in/seqDisp.php?id=CAMPSQ18365 错误: HTTPSConnectionPool(host='camp.bicnirrh.res.in', port=443): Max retries exceeded with url: /seqDisp.php?id=CAMPSQ18365 (Caused by SSLError(SSLEOFError(8, '[SSL: UNEXPECTED_EOF_WHILE_READING] EOF occurred in violation of protocol (_ssl.c:1006)')))\n",
      "[跳过] https://camp.bicnirrh.res.in/seqDisp.php?id=CAMPSQ18366 错误: HTTPSConnectionPool(host='camp.bicnirrh.res.in', port=443): Max retries exceeded with url: /seqDisp.php?id=CAMPSQ18366 (Caused by SSLError(SSLEOFError(8, '[SSL: UNEXPECTED_EOF_WHILE_READING] EOF occurred in violation of protocol (_ssl.c:1006)')))\n"
     ]
    },
    {
     "name": "stderr",
     "output_type": "stream",
     "text": [
      "抓取 AMP 页面数据:  35%|███▍      | 5492/15725 [1:01:31<25:56,  6.57it/s]"
     ]
    },
    {
     "name": "stdout",
     "output_type": "stream",
     "text": [
      "[跳过] https://camp.bicnirrh.res.in/seqDisp.php?id=CAMPSQ18367 错误: HTTPSConnectionPool(host='camp.bicnirrh.res.in', port=443): Max retries exceeded with url: /seqDisp.php?id=CAMPSQ18367 (Caused by SSLError(SSLEOFError(8, '[SSL: UNEXPECTED_EOF_WHILE_READING] EOF occurred in violation of protocol (_ssl.c:1006)')))\n",
      "[跳过] https://camp.bicnirrh.res.in/seqDisp.php?id=CAMPSQ18368 错误: HTTPSConnectionPool(host='camp.bicnirrh.res.in', port=443): Max retries exceeded with url: /seqDisp.php?id=CAMPSQ18368 (Caused by SSLError(SSLEOFError(8, '[SSL: UNEXPECTED_EOF_WHILE_READING] EOF occurred in violation of protocol (_ssl.c:1006)')))\n",
      "[跳过] https://camp.bicnirrh.res.in/seqDisp.php?id=CAMPSQ18369 错误: HTTPSConnectionPool(host='camp.bicnirrh.res.in', port=443): Max retries exceeded with url: /seqDisp.php?id=CAMPSQ18369 (Caused by SSLError(SSLEOFError(8, '[SSL: UNEXPECTED_EOF_WHILE_READING] EOF occurred in violation of protocol (_ssl.c:1006)')))\n"
     ]
    },
    {
     "name": "stderr",
     "output_type": "stream",
     "text": [
      "抓取 AMP 页面数据:  35%|███▍      | 5493/15725 [1:01:31<24:08,  7.06it/s]"
     ]
    },
    {
     "name": "stdout",
     "output_type": "stream",
     "text": [
      "[跳过] https://camp.bicnirrh.res.in/seqDisp.php?id=CAMPSQ18370 错误: HTTPSConnectionPool(host='camp.bicnirrh.res.in', port=443): Max retries exceeded with url: /seqDisp.php?id=CAMPSQ18370 (Caused by SSLError(SSLEOFError(8, '[SSL: UNEXPECTED_EOF_WHILE_READING] EOF occurred in violation of protocol (_ssl.c:1006)')))\n",
      "[跳过] https://camp.bicnirrh.res.in/seqDisp.php?id=CAMPSQ18371 错误: HTTPSConnectionPool(host='camp.bicnirrh.res.in', port=443): Max retries exceeded with url: /seqDisp.php?id=CAMPSQ18371 (Caused by SSLError(SSLEOFError(8, '[SSL: UNEXPECTED_EOF_WHILE_READING] EOF occurred in violation of protocol (_ssl.c:1006)')))\n"
     ]
    },
    {
     "name": "stderr",
     "output_type": "stream",
     "text": [
      "抓取 AMP 页面数据:  35%|███▍      | 5497/15725 [1:01:31<20:05,  8.48it/s]"
     ]
    },
    {
     "name": "stdout",
     "output_type": "stream",
     "text": [
      "[跳过] https://camp.bicnirrh.res.in/seqDisp.php?id=CAMPSQ18372 错误: HTTPSConnectionPool(host='camp.bicnirrh.res.in', port=443): Max retries exceeded with url: /seqDisp.php?id=CAMPSQ18372 (Caused by SSLError(SSLEOFError(8, '[SSL: UNEXPECTED_EOF_WHILE_READING] EOF occurred in violation of protocol (_ssl.c:1006)')))\n",
      "[跳过] https://camp.bicnirrh.res.in/seqDisp.php?id=CAMPSQ18373 错误: HTTPSConnectionPool(host='camp.bicnirrh.res.in', port=443): Max retries exceeded with url: /seqDisp.php?id=CAMPSQ18373 (Caused by SSLError(SSLEOFError(8, '[SSL: UNEXPECTED_EOF_WHILE_READING] EOF occurred in violation of protocol (_ssl.c:1006)')))\n",
      "[跳过] https://camp.bicnirrh.res.in/seqDisp.php?id=CAMPSQ18374 错误: HTTPSConnectionPool(host='camp.bicnirrh.res.in', port=443): Max retries exceeded with url: /seqDisp.php?id=CAMPSQ18374 (Caused by SSLError(SSLEOFError(8, '[SSL: UNEXPECTED_EOF_WHILE_READING] EOF occurred in violation of protocol (_ssl.c:1006)')))\n"
     ]
    },
    {
     "name": "stderr",
     "output_type": "stream",
     "text": [
      "抓取 AMP 页面数据:  35%|███▍      | 5499/15725 [1:01:31<18:38,  9.14it/s]"
     ]
    },
    {
     "name": "stdout",
     "output_type": "stream",
     "text": [
      "[跳过] https://camp.bicnirrh.res.in/seqDisp.php?id=CAMPSQ18375 错误: HTTPSConnectionPool(host='camp.bicnirrh.res.in', port=443): Max retries exceeded with url: /seqDisp.php?id=CAMPSQ18375 (Caused by SSLError(SSLEOFError(8, '[SSL: UNEXPECTED_EOF_WHILE_READING] EOF occurred in violation of protocol (_ssl.c:1006)')))\n",
      "[跳过] https://camp.bicnirrh.res.in/seqDisp.php?id=CAMPSQ18376 错误: HTTPSConnectionPool(host='camp.bicnirrh.res.in', port=443): Max retries exceeded with url: /seqDisp.php?id=CAMPSQ18376 (Caused by SSLError(SSLEOFError(8, '[SSL: UNEXPECTED_EOF_WHILE_READING] EOF occurred in violation of protocol (_ssl.c:1006)')))\n"
     ]
    },
    {
     "name": "stderr",
     "output_type": "stream",
     "text": [
      "抓取 AMP 页面数据:  35%|███▍      | 5501/15725 [1:01:31<19:15,  8.84it/s]"
     ]
    },
    {
     "name": "stdout",
     "output_type": "stream",
     "text": [
      "[跳过] https://camp.bicnirrh.res.in/seqDisp.php?id=CAMPSQ18377 错误: HTTPSConnectionPool(host='camp.bicnirrh.res.in', port=443): Max retries exceeded with url: /seqDisp.php?id=CAMPSQ18377 (Caused by SSLError(SSLEOFError(8, '[SSL: UNEXPECTED_EOF_WHILE_READING] EOF occurred in violation of protocol (_ssl.c:1006)')))\n",
      "[跳过] https://camp.bicnirrh.res.in/seqDisp.php?id=CAMPSQ18378 错误: HTTPSConnectionPool(host='camp.bicnirrh.res.in', port=443): Max retries exceeded with url: /seqDisp.php?id=CAMPSQ18378 (Caused by SSLError(SSLEOFError(8, '[SSL: UNEXPECTED_EOF_WHILE_READING] EOF occurred in violation of protocol (_ssl.c:1006)')))\n",
      "[跳过] https://camp.bicnirrh.res.in/seqDisp.php?id=CAMPSQ18379 错误: HTTPSConnectionPool(host='camp.bicnirrh.res.in', port=443): Max retries exceeded with url: /seqDisp.php?id=CAMPSQ18379 (Caused by SSLError(SSLEOFError(8, '[SSL: UNEXPECTED_EOF_WHILE_READING] EOF occurred in violation of protocol (_ssl.c:1006)')))\n"
     ]
    },
    {
     "name": "stderr",
     "output_type": "stream",
     "text": [
      "抓取 AMP 页面数据:  35%|███▍      | 5503/15725 [1:01:32<18:26,  9.24it/s]"
     ]
    },
    {
     "name": "stdout",
     "output_type": "stream",
     "text": [
      "[跳过] https://camp.bicnirrh.res.in/seqDisp.php?id=CAMPSQ18380 错误: HTTPSConnectionPool(host='camp.bicnirrh.res.in', port=443): Max retries exceeded with url: /seqDisp.php?id=CAMPSQ18380 (Caused by SSLError(SSLEOFError(8, '[SSL: UNEXPECTED_EOF_WHILE_READING] EOF occurred in violation of protocol (_ssl.c:1006)')))\n",
      "[跳过] https://camp.bicnirrh.res.in/seqDisp.php?id=CAMPSQ18381 错误: HTTPSConnectionPool(host='camp.bicnirrh.res.in', port=443): Max retries exceeded with url: /seqDisp.php?id=CAMPSQ18381 (Caused by SSLError(SSLEOFError(8, '[SSL: UNEXPECTED_EOF_WHILE_READING] EOF occurred in violation of protocol (_ssl.c:1006)')))\n"
     ]
    },
    {
     "name": "stderr",
     "output_type": "stream",
     "text": [
      "抓取 AMP 页面数据:  35%|███▌      | 5507/15725 [1:01:32<18:14,  9.33it/s]"
     ]
    },
    {
     "name": "stdout",
     "output_type": "stream",
     "text": [
      "[跳过] https://camp.bicnirrh.res.in/seqDisp.php?id=CAMPSQ18382 错误: HTTPSConnectionPool(host='camp.bicnirrh.res.in', port=443): Max retries exceeded with url: /seqDisp.php?id=CAMPSQ18382 (Caused by SSLError(SSLEOFError(8, '[SSL: UNEXPECTED_EOF_WHILE_READING] EOF occurred in violation of protocol (_ssl.c:1006)')))\n",
      "[跳过] https://camp.bicnirrh.res.in/seqDisp.php?id=CAMPSQ18383 错误: HTTPSConnectionPool(host='camp.bicnirrh.res.in', port=443): Max retries exceeded with url: /seqDisp.php?id=CAMPSQ18383 (Caused by SSLError(SSLEOFError(8, '[SSL: UNEXPECTED_EOF_WHILE_READING] EOF occurred in violation of protocol (_ssl.c:1006)')))\n",
      "[跳过] https://camp.bicnirrh.res.in/seqDisp.php?id=CAMPSQ18384 错误: HTTPSConnectionPool(host='camp.bicnirrh.res.in', port=443): Max retries exceeded with url: /seqDisp.php?id=CAMPSQ18384 (Caused by SSLError(SSLEOFError(8, '[SSL: UNEXPECTED_EOF_WHILE_READING] EOF occurred in violation of protocol (_ssl.c:1006)')))\n"
     ]
    },
    {
     "name": "stderr",
     "output_type": "stream",
     "text": [
      "抓取 AMP 页面数据:  35%|███▌      | 5509/15725 [1:01:32<17:16,  9.86it/s]"
     ]
    },
    {
     "name": "stdout",
     "output_type": "stream",
     "text": [
      "[跳过] https://camp.bicnirrh.res.in/seqDisp.php?id=CAMPSQ18385 错误: HTTPSConnectionPool(host='camp.bicnirrh.res.in', port=443): Max retries exceeded with url: /seqDisp.php?id=CAMPSQ18385 (Caused by SSLError(SSLEOFError(8, '[SSL: UNEXPECTED_EOF_WHILE_READING] EOF occurred in violation of protocol (_ssl.c:1006)')))\n",
      "[跳过] https://camp.bicnirrh.res.in/seqDisp.php?id=CAMPSQ18386 错误: HTTPSConnectionPool(host='camp.bicnirrh.res.in', port=443): Max retries exceeded with url: /seqDisp.php?id=CAMPSQ18386 (Caused by SSLError(SSLEOFError(8, '[SSL: UNEXPECTED_EOF_WHILE_READING] EOF occurred in violation of protocol (_ssl.c:1006)')))\n"
     ]
    },
    {
     "name": "stderr",
     "output_type": "stream",
     "text": [
      "抓取 AMP 页面数据:  35%|███▌      | 5511/15725 [1:01:33<18:51,  9.03it/s]"
     ]
    },
    {
     "name": "stdout",
     "output_type": "stream",
     "text": [
      "[跳过] https://camp.bicnirrh.res.in/seqDisp.php?id=CAMPSQ18387 错误: HTTPSConnectionPool(host='camp.bicnirrh.res.in', port=443): Max retries exceeded with url: /seqDisp.php?id=CAMPSQ18387 (Caused by SSLError(SSLEOFError(8, '[SSL: UNEXPECTED_EOF_WHILE_READING] EOF occurred in violation of protocol (_ssl.c:1006)')))\n",
      "[跳过] https://camp.bicnirrh.res.in/seqDisp.php?id=CAMPSQ18388 错误: HTTPSConnectionPool(host='camp.bicnirrh.res.in', port=443): Max retries exceeded with url: /seqDisp.php?id=CAMPSQ18388 (Caused by SSLError(SSLEOFError(8, '[SSL: UNEXPECTED_EOF_WHILE_READING] EOF occurred in violation of protocol (_ssl.c:1006)')))\n",
      "[跳过] https://camp.bicnirrh.res.in/seqDisp.php?id=CAMPSQ18389 错误: HTTPSConnectionPool(host='camp.bicnirrh.res.in', port=443): Max retries exceeded with url: /seqDisp.php?id=CAMPSQ18389 (Caused by SSLError(SSLEOFError(8, '[SSL: UNEXPECTED_EOF_WHILE_READING] EOF occurred in violation of protocol (_ssl.c:1006)')))\n"
     ]
    },
    {
     "name": "stderr",
     "output_type": "stream",
     "text": [
      "抓取 AMP 页面数据:  35%|███▌      | 5513/15725 [1:01:33<17:45,  9.58it/s]"
     ]
    },
    {
     "name": "stdout",
     "output_type": "stream",
     "text": [
      "[跳过] https://camp.bicnirrh.res.in/seqDisp.php?id=CAMPSQ18390 错误: HTTPSConnectionPool(host='camp.bicnirrh.res.in', port=443): Max retries exceeded with url: /seqDisp.php?id=CAMPSQ18390 (Caused by SSLError(SSLEOFError(8, '[SSL: UNEXPECTED_EOF_WHILE_READING] EOF occurred in violation of protocol (_ssl.c:1006)')))\n",
      "[跳过] https://camp.bicnirrh.res.in/seqDisp.php?id=CAMPSQ18391 错误: HTTPSConnectionPool(host='camp.bicnirrh.res.in', port=443): Max retries exceeded with url: /seqDisp.php?id=CAMPSQ18391 (Caused by SSLError(SSLEOFError(8, '[SSL: UNEXPECTED_EOF_WHILE_READING] EOF occurred in violation of protocol (_ssl.c:1006)')))\n"
     ]
    },
    {
     "name": "stderr",
     "output_type": "stream",
     "text": [
      "抓取 AMP 页面数据:  35%|███▌      | 5516/15725 [1:01:33<18:15,  9.32it/s]"
     ]
    },
    {
     "name": "stdout",
     "output_type": "stream",
     "text": [
      "[跳过] https://camp.bicnirrh.res.in/seqDisp.php?id=CAMPSQ18392 错误: HTTPSConnectionPool(host='camp.bicnirrh.res.in', port=443): Max retries exceeded with url: /seqDisp.php?id=CAMPSQ18392 (Caused by SSLError(SSLEOFError(8, '[SSL: UNEXPECTED_EOF_WHILE_READING] EOF occurred in violation of protocol (_ssl.c:1006)')))\n",
      "[跳过] https://camp.bicnirrh.res.in/seqDisp.php?id=CAMPSQ18393 错误: HTTPSConnectionPool(host='camp.bicnirrh.res.in', port=443): Max retries exceeded with url: /seqDisp.php?id=CAMPSQ18393 (Caused by SSLError(SSLEOFError(8, '[SSL: UNEXPECTED_EOF_WHILE_READING] EOF occurred in violation of protocol (_ssl.c:1006)')))\n",
      "[跳过] https://camp.bicnirrh.res.in/seqDisp.php?id=CAMPSQ18394 错误: HTTPSConnectionPool(host='camp.bicnirrh.res.in', port=443): Max retries exceeded with url: /seqDisp.php?id=CAMPSQ18394 (Caused by SSLError(SSLEOFError(8, '[SSL: UNEXPECTED_EOF_WHILE_READING] EOF occurred in violation of protocol (_ssl.c:1006)')))\n"
     ]
    },
    {
     "name": "stderr",
     "output_type": "stream",
     "text": [
      "抓取 AMP 页面数据:  35%|███▌      | 5518/15725 [1:01:33<17:36,  9.67it/s]"
     ]
    },
    {
     "name": "stdout",
     "output_type": "stream",
     "text": [
      "[跳过] https://camp.bicnirrh.res.in/seqDisp.php?id=CAMPSQ18395 错误: HTTPSConnectionPool(host='camp.bicnirrh.res.in', port=443): Max retries exceeded with url: /seqDisp.php?id=CAMPSQ18395 (Caused by SSLError(SSLEOFError(8, '[SSL: UNEXPECTED_EOF_WHILE_READING] EOF occurred in violation of protocol (_ssl.c:1006)')))\n",
      "[跳过] https://camp.bicnirrh.res.in/seqDisp.php?id=CAMPSQ18396 错误: HTTPSConnectionPool(host='camp.bicnirrh.res.in', port=443): Max retries exceeded with url: /seqDisp.php?id=CAMPSQ18396 (Caused by SSLError(SSLEOFError(8, '[SSL: UNEXPECTED_EOF_WHILE_READING] EOF occurred in violation of protocol (_ssl.c:1006)')))\n"
     ]
    },
    {
     "name": "stderr",
     "output_type": "stream",
     "text": [
      "抓取 AMP 页面数据:  35%|███▌      | 5522/15725 [1:01:34<17:35,  9.67it/s]"
     ]
    },
    {
     "name": "stdout",
     "output_type": "stream",
     "text": [
      "[跳过] https://camp.bicnirrh.res.in/seqDisp.php?id=CAMPSQ18397 错误: HTTPSConnectionPool(host='camp.bicnirrh.res.in', port=443): Max retries exceeded with url: /seqDisp.php?id=CAMPSQ18397 (Caused by SSLError(SSLEOFError(8, '[SSL: UNEXPECTED_EOF_WHILE_READING] EOF occurred in violation of protocol (_ssl.c:1006)')))\n",
      "[跳过] https://camp.bicnirrh.res.in/seqDisp.php?id=CAMPSQ18398 错误: HTTPSConnectionPool(host='camp.bicnirrh.res.in', port=443): Max retries exceeded with url: /seqDisp.php?id=CAMPSQ18398 (Caused by SSLError(SSLEOFError(8, '[SSL: UNEXPECTED_EOF_WHILE_READING] EOF occurred in violation of protocol (_ssl.c:1006)')))\n",
      "[跳过] https://camp.bicnirrh.res.in/seqDisp.php?id=CAMPSQ18399 错误: HTTPSConnectionPool(host='camp.bicnirrh.res.in', port=443): Max retries exceeded with url: /seqDisp.php?id=CAMPSQ18399 (Caused by SSLError(SSLEOFError(8, '[SSL: UNEXPECTED_EOF_WHILE_READING] EOF occurred in violation of protocol (_ssl.c:1006)')))\n"
     ]
    },
    {
     "name": "stderr",
     "output_type": "stream",
     "text": [
      "抓取 AMP 页面数据:  35%|███▌      | 5523/15725 [1:01:34<17:29,  9.72it/s]"
     ]
    },
    {
     "name": "stdout",
     "output_type": "stream",
     "text": [
      "[跳过] https://camp.bicnirrh.res.in/seqDisp.php?id=CAMPSQ184 错误: HTTPSConnectionPool(host='camp.bicnirrh.res.in', port=443): Max retries exceeded with url: /seqDisp.php?id=CAMPSQ184 (Caused by SSLError(SSLEOFError(8, '[SSL: UNEXPECTED_EOF_WHILE_READING] EOF occurred in violation of protocol (_ssl.c:1006)')))\n",
      "[跳过] https://camp.bicnirrh.res.in/seqDisp.php?id=CAMPSQ18400 错误: HTTPSConnectionPool(host='camp.bicnirrh.res.in', port=443): Max retries exceeded with url: /seqDisp.php?id=CAMPSQ18400 (Caused by SSLError(SSLEOFError(8, '[SSL: UNEXPECTED_EOF_WHILE_READING] EOF occurred in violation of protocol (_ssl.c:1006)')))\n"
     ]
    },
    {
     "name": "stderr",
     "output_type": "stream",
     "text": [
      "抓取 AMP 页面数据:  35%|███▌      | 5527/15725 [1:01:34<17:14,  9.85it/s]"
     ]
    },
    {
     "name": "stdout",
     "output_type": "stream",
     "text": [
      "[跳过] https://camp.bicnirrh.res.in/seqDisp.php?id=CAMPSQ18401 错误: HTTPSConnectionPool(host='camp.bicnirrh.res.in', port=443): Max retries exceeded with url: /seqDisp.php?id=CAMPSQ18401 (Caused by SSLError(SSLEOFError(8, '[SSL: UNEXPECTED_EOF_WHILE_READING] EOF occurred in violation of protocol (_ssl.c:1006)')))\n",
      "[跳过] https://camp.bicnirrh.res.in/seqDisp.php?id=CAMPSQ18402 错误: HTTPSConnectionPool(host='camp.bicnirrh.res.in', port=443): Max retries exceeded with url: /seqDisp.php?id=CAMPSQ18402 (Caused by SSLError(SSLEOFError(8, '[SSL: UNEXPECTED_EOF_WHILE_READING] EOF occurred in violation of protocol (_ssl.c:1006)')))\n",
      "[跳过] https://camp.bicnirrh.res.in/seqDisp.php?id=CAMPSQ18403 错误: HTTPSConnectionPool(host='camp.bicnirrh.res.in', port=443): Max retries exceeded with url: /seqDisp.php?id=CAMPSQ18403 (Caused by SSLError(SSLEOFError(8, '[SSL: UNEXPECTED_EOF_WHILE_READING] EOF occurred in violation of protocol (_ssl.c:1006)')))\n"
     ]
    },
    {
     "name": "stderr",
     "output_type": "stream",
     "text": [
      "抓取 AMP 页面数据:  35%|███▌      | 5529/15725 [1:01:34<16:42, 10.17it/s]"
     ]
    },
    {
     "name": "stdout",
     "output_type": "stream",
     "text": [
      "[跳过] https://camp.bicnirrh.res.in/seqDisp.php?id=CAMPSQ18404 错误: HTTPSConnectionPool(host='camp.bicnirrh.res.in', port=443): Max retries exceeded with url: /seqDisp.php?id=CAMPSQ18404 (Caused by SSLError(SSLEOFError(8, '[SSL: UNEXPECTED_EOF_WHILE_READING] EOF occurred in violation of protocol (_ssl.c:1006)')))\n",
      "[跳过] https://camp.bicnirrh.res.in/seqDisp.php?id=CAMPSQ18405 错误: HTTPSConnectionPool(host='camp.bicnirrh.res.in', port=443): Max retries exceeded with url: /seqDisp.php?id=CAMPSQ18405 (Caused by SSLError(SSLEOFError(8, '[SSL: UNEXPECTED_EOF_WHILE_READING] EOF occurred in violation of protocol (_ssl.c:1006)')))\n"
     ]
    },
    {
     "name": "stderr",
     "output_type": "stream",
     "text": [
      "抓取 AMP 页面数据:  35%|███▌      | 5531/15725 [1:01:35<18:16,  9.30it/s]"
     ]
    },
    {
     "name": "stdout",
     "output_type": "stream",
     "text": [
      "[跳过] https://camp.bicnirrh.res.in/seqDisp.php?id=CAMPSQ18406 错误: HTTPSConnectionPool(host='camp.bicnirrh.res.in', port=443): Max retries exceeded with url: /seqDisp.php?id=CAMPSQ18406 (Caused by SSLError(SSLEOFError(8, '[SSL: UNEXPECTED_EOF_WHILE_READING] EOF occurred in violation of protocol (_ssl.c:1006)')))\n",
      "[跳过] https://camp.bicnirrh.res.in/seqDisp.php?id=CAMPSQ18407 错误: HTTPSConnectionPool(host='camp.bicnirrh.res.in', port=443): Max retries exceeded with url: /seqDisp.php?id=CAMPSQ18407 (Caused by SSLError(SSLEOFError(8, '[SSL: UNEXPECTED_EOF_WHILE_READING] EOF occurred in violation of protocol (_ssl.c:1006)')))\n",
      "[跳过] https://camp.bicnirrh.res.in/seqDisp.php?id=CAMPSQ18408 错误: HTTPSConnectionPool(host='camp.bicnirrh.res.in', port=443): Max retries exceeded with url: /seqDisp.php?id=CAMPSQ18408 (Caused by SSLError(SSLEOFError(8, '[SSL: UNEXPECTED_EOF_WHILE_READING] EOF occurred in violation of protocol (_ssl.c:1006)')))\n"
     ]
    },
    {
     "name": "stderr",
     "output_type": "stream",
     "text": [
      "抓取 AMP 页面数据:  35%|███▌      | 5533/15725 [1:01:35<17:11,  9.88it/s]"
     ]
    },
    {
     "name": "stdout",
     "output_type": "stream",
     "text": [
      "[跳过] https://camp.bicnirrh.res.in/seqDisp.php?id=CAMPSQ18409 错误: HTTPSConnectionPool(host='camp.bicnirrh.res.in', port=443): Max retries exceeded with url: /seqDisp.php?id=CAMPSQ18409 (Caused by SSLError(SSLEOFError(8, '[SSL: UNEXPECTED_EOF_WHILE_READING] EOF occurred in violation of protocol (_ssl.c:1006)')))\n",
      "[跳过] https://camp.bicnirrh.res.in/seqDisp.php?id=CAMPSQ18410 错误: HTTPSConnectionPool(host='camp.bicnirrh.res.in', port=443): Max retries exceeded with url: /seqDisp.php?id=CAMPSQ18410 (Caused by SSLError(SSLEOFError(8, '[SSL: UNEXPECTED_EOF_WHILE_READING] EOF occurred in violation of protocol (_ssl.c:1006)')))\n"
     ]
    },
    {
     "name": "stderr",
     "output_type": "stream",
     "text": [
      "抓取 AMP 页面数据:  35%|███▌      | 5537/15725 [1:01:35<18:08,  9.36it/s]"
     ]
    },
    {
     "name": "stdout",
     "output_type": "stream",
     "text": [
      "[跳过] https://camp.bicnirrh.res.in/seqDisp.php?id=CAMPSQ18411 错误: HTTPSConnectionPool(host='camp.bicnirrh.res.in', port=443): Max retries exceeded with url: /seqDisp.php?id=CAMPSQ18411 (Caused by SSLError(SSLEOFError(8, '[SSL: UNEXPECTED_EOF_WHILE_READING] EOF occurred in violation of protocol (_ssl.c:1006)')))\n",
      "[跳过] https://camp.bicnirrh.res.in/seqDisp.php?id=CAMPSQ18412 错误: HTTPSConnectionPool(host='camp.bicnirrh.res.in', port=443): Max retries exceeded with url: /seqDisp.php?id=CAMPSQ18412 (Caused by SSLError(SSLEOFError(8, '[SSL: UNEXPECTED_EOF_WHILE_READING] EOF occurred in violation of protocol (_ssl.c:1006)')))\n",
      "[跳过] https://camp.bicnirrh.res.in/seqDisp.php?id=CAMPSQ18413 错误: HTTPSConnectionPool(host='camp.bicnirrh.res.in', port=443): Max retries exceeded with url: /seqDisp.php?id=CAMPSQ18413 (Caused by SSLError(SSLEOFError(8, '[SSL: UNEXPECTED_EOF_WHILE_READING] EOF occurred in violation of protocol (_ssl.c:1006)')))\n"
     ]
    },
    {
     "name": "stderr",
     "output_type": "stream",
     "text": [
      "抓取 AMP 页面数据:  35%|███▌      | 5539/15725 [1:01:35<17:14,  9.85it/s]"
     ]
    },
    {
     "name": "stdout",
     "output_type": "stream",
     "text": [
      "[跳过] https://camp.bicnirrh.res.in/seqDisp.php?id=CAMPSQ18414 错误: HTTPSConnectionPool(host='camp.bicnirrh.res.in', port=443): Max retries exceeded with url: /seqDisp.php?id=CAMPSQ18414 (Caused by SSLError(SSLEOFError(8, '[SSL: UNEXPECTED_EOF_WHILE_READING] EOF occurred in violation of protocol (_ssl.c:1006)')))\n",
      "[跳过] https://camp.bicnirrh.res.in/seqDisp.php?id=CAMPSQ18415 错误: HTTPSConnectionPool(host='camp.bicnirrh.res.in', port=443): Max retries exceeded with url: /seqDisp.php?id=CAMPSQ18415 (Caused by SSLError(SSLEOFError(8, '[SSL: UNEXPECTED_EOF_WHILE_READING] EOF occurred in violation of protocol (_ssl.c:1006)')))\n"
     ]
    },
    {
     "name": "stderr",
     "output_type": "stream",
     "text": [
      "抓取 AMP 页面数据:  35%|███▌      | 5542/15725 [1:01:36<17:59,  9.43it/s]"
     ]
    },
    {
     "name": "stdout",
     "output_type": "stream",
     "text": [
      "[跳过] https://camp.bicnirrh.res.in/seqDisp.php?id=CAMPSQ18416 错误: HTTPSConnectionPool(host='camp.bicnirrh.res.in', port=443): Max retries exceeded with url: /seqDisp.php?id=CAMPSQ18416 (Caused by SSLError(SSLEOFError(8, '[SSL: UNEXPECTED_EOF_WHILE_READING] EOF occurred in violation of protocol (_ssl.c:1006)')))\n",
      "[跳过] https://camp.bicnirrh.res.in/seqDisp.php?id=CAMPSQ18417 错误: HTTPSConnectionPool(host='camp.bicnirrh.res.in', port=443): Max retries exceeded with url: /seqDisp.php?id=CAMPSQ18417 (Caused by SSLError(SSLEOFError(8, '[SSL: UNEXPECTED_EOF_WHILE_READING] EOF occurred in violation of protocol (_ssl.c:1006)')))\n",
      "[跳过] https://camp.bicnirrh.res.in/seqDisp.php?id=CAMPSQ18418 错误: HTTPSConnectionPool(host='camp.bicnirrh.res.in', port=443): Max retries exceeded with url: /seqDisp.php?id=CAMPSQ18418 (Caused by SSLError(SSLEOFError(8, '[SSL: UNEXPECTED_EOF_WHILE_READING] EOF occurred in violation of protocol (_ssl.c:1006)')))\n"
     ]
    },
    {
     "name": "stderr",
     "output_type": "stream",
     "text": [
      "抓取 AMP 页面数据:  35%|███▌      | 5544/15725 [1:01:36<17:18,  9.80it/s]"
     ]
    },
    {
     "name": "stdout",
     "output_type": "stream",
     "text": [
      "[跳过] https://camp.bicnirrh.res.in/seqDisp.php?id=CAMPSQ18419 错误: HTTPSConnectionPool(host='camp.bicnirrh.res.in', port=443): Max retries exceeded with url: /seqDisp.php?id=CAMPSQ18419 (Caused by SSLError(SSLEOFError(8, '[SSL: UNEXPECTED_EOF_WHILE_READING] EOF occurred in violation of protocol (_ssl.c:1006)')))\n",
      "[跳过] https://camp.bicnirrh.res.in/seqDisp.php?id=CAMPSQ18420 错误: HTTPSConnectionPool(host='camp.bicnirrh.res.in', port=443): Max retries exceeded with url: /seqDisp.php?id=CAMPSQ18420 (Caused by SSLError(SSLEOFError(8, '[SSL: UNEXPECTED_EOF_WHILE_READING] EOF occurred in violation of protocol (_ssl.c:1006)')))\n"
     ]
    },
    {
     "name": "stderr",
     "output_type": "stream",
     "text": [
      "抓取 AMP 页面数据:  35%|███▌      | 5547/15725 [1:01:36<17:08,  9.89it/s]"
     ]
    },
    {
     "name": "stdout",
     "output_type": "stream",
     "text": [
      "[跳过] https://camp.bicnirrh.res.in/seqDisp.php?id=CAMPSQ18421 错误: HTTPSConnectionPool(host='camp.bicnirrh.res.in', port=443): Max retries exceeded with url: /seqDisp.php?id=CAMPSQ18421 (Caused by SSLError(SSLEOFError(8, '[SSL: UNEXPECTED_EOF_WHILE_READING] EOF occurred in violation of protocol (_ssl.c:1006)')))\n",
      "[跳过] https://camp.bicnirrh.res.in/seqDisp.php?id=CAMPSQ18422 错误: HTTPSConnectionPool(host='camp.bicnirrh.res.in', port=443): Max retries exceeded with url: /seqDisp.php?id=CAMPSQ18422 (Caused by SSLError(SSLEOFError(8, '[SSL: UNEXPECTED_EOF_WHILE_READING] EOF occurred in violation of protocol (_ssl.c:1006)')))\n",
      "[跳过] https://camp.bicnirrh.res.in/seqDisp.php?id=CAMPSQ18423 错误: HTTPSConnectionPool(host='camp.bicnirrh.res.in', port=443): Max retries exceeded with url: /seqDisp.php?id=CAMPSQ18423 (Caused by SSLError(SSLEOFError(8, '[SSL: UNEXPECTED_EOF_WHILE_READING] EOF occurred in violation of protocol (_ssl.c:1006)')))\n"
     ]
    },
    {
     "name": "stderr",
     "output_type": "stream",
     "text": [
      "抓取 AMP 页面数据:  35%|███▌      | 5549/15725 [1:01:36<16:17, 10.41it/s]"
     ]
    },
    {
     "name": "stdout",
     "output_type": "stream",
     "text": [
      "[跳过] https://camp.bicnirrh.res.in/seqDisp.php?id=CAMPSQ18424 错误: HTTPSConnectionPool(host='camp.bicnirrh.res.in', port=443): Max retries exceeded with url: /seqDisp.php?id=CAMPSQ18424 (Caused by SSLError(SSLEOFError(8, '[SSL: UNEXPECTED_EOF_WHILE_READING] EOF occurred in violation of protocol (_ssl.c:1006)')))\n",
      "[跳过] https://camp.bicnirrh.res.in/seqDisp.php?id=CAMPSQ18425 错误: HTTPSConnectionPool(host='camp.bicnirrh.res.in', port=443): Max retries exceeded with url: /seqDisp.php?id=CAMPSQ18425 (Caused by SSLError(SSLEOFError(8, '[SSL: UNEXPECTED_EOF_WHILE_READING] EOF occurred in violation of protocol (_ssl.c:1006)')))\n"
     ]
    },
    {
     "name": "stderr",
     "output_type": "stream",
     "text": [
      "抓取 AMP 页面数据:  35%|███▌      | 5551/15725 [1:01:37<18:40,  9.08it/s]"
     ]
    },
    {
     "name": "stdout",
     "output_type": "stream",
     "text": [
      "[跳过] https://camp.bicnirrh.res.in/seqDisp.php?id=CAMPSQ18426 错误: HTTPSConnectionPool(host='camp.bicnirrh.res.in', port=443): Max retries exceeded with url: /seqDisp.php?id=CAMPSQ18426 (Caused by SSLError(SSLEOFError(8, '[SSL: UNEXPECTED_EOF_WHILE_READING] EOF occurred in violation of protocol (_ssl.c:1006)')))\n",
      "[跳过] https://camp.bicnirrh.res.in/seqDisp.php?id=CAMPSQ18427 错误: HTTPSConnectionPool(host='camp.bicnirrh.res.in', port=443): Max retries exceeded with url: /seqDisp.php?id=CAMPSQ18427 (Caused by SSLError(SSLEOFError(8, '[SSL: UNEXPECTED_EOF_WHILE_READING] EOF occurred in violation of protocol (_ssl.c:1006)')))\n",
      "[跳过] https://camp.bicnirrh.res.in/seqDisp.php?id=CAMPSQ18428 错误: HTTPSConnectionPool(host='camp.bicnirrh.res.in', port=443): Max retries exceeded with url: /seqDisp.php?id=CAMPSQ18428 (Caused by SSLError(SSLEOFError(8, '[SSL: UNEXPECTED_EOF_WHILE_READING] EOF occurred in violation of protocol (_ssl.c:1006)')))\n"
     ]
    },
    {
     "name": "stderr",
     "output_type": "stream",
     "text": [
      "抓取 AMP 页面数据:  35%|███▌      | 5553/15725 [1:01:37<17:58,  9.44it/s]"
     ]
    },
    {
     "name": "stdout",
     "output_type": "stream",
     "text": [
      "[跳过] https://camp.bicnirrh.res.in/seqDisp.php?id=CAMPSQ18429 错误: HTTPSConnectionPool(host='camp.bicnirrh.res.in', port=443): Max retries exceeded with url: /seqDisp.php?id=CAMPSQ18429 (Caused by SSLError(SSLEOFError(8, '[SSL: UNEXPECTED_EOF_WHILE_READING] EOF occurred in violation of protocol (_ssl.c:1006)')))\n",
      "[跳过] https://camp.bicnirrh.res.in/seqDisp.php?id=CAMPSQ18430 错误: HTTPSConnectionPool(host='camp.bicnirrh.res.in', port=443): Max retries exceeded with url: /seqDisp.php?id=CAMPSQ18430 (Caused by SSLError(SSLEOFError(8, '[SSL: UNEXPECTED_EOF_WHILE_READING] EOF occurred in violation of protocol (_ssl.c:1006)')))\n"
     ]
    },
    {
     "name": "stderr",
     "output_type": "stream",
     "text": [
      "抓取 AMP 页面数据:  35%|███▌      | 5555/15725 [1:01:41<2:04:26,  1.36it/s]"
     ]
    },
    {
     "name": "stdout",
     "output_type": "stream",
     "text": [
      "[跳过] https://camp.bicnirrh.res.in/seqDisp.php?id=CAMPSQ18431 错误: HTTPSConnectionPool(host='camp.bicnirrh.res.in', port=443): Max retries exceeded with url: /seqDisp.php?id=CAMPSQ18431 (Caused by SSLError(SSLEOFError(8, '[SSL: UNEXPECTED_EOF_WHILE_READING] EOF occurred in violation of protocol (_ssl.c:1006)')))\n"
     ]
    },
    {
     "name": "stderr",
     "output_type": "stream",
     "text": [
      "抓取 AMP 页面数据: 100%|██████████| 15725/15725 [2:54:39<00:00,  1.50it/s]  \n"
     ]
    },
    {
     "name": "stdout",
     "output_type": "stream",
     "text": [
      "✅ 所有 AMP 页面数据抓取完成，已保存 CSV\n"
     ]
    }
   ],
   "execution_count": 43
  },
  {
   "metadata": {
    "ExecuteTime": {
     "end_time": "2025-07-24T16:45:20.089584Z",
     "start_time": "2025-07-24T16:45:20.081587Z"
    }
   },
   "cell_type": "code",
   "source": "pd.DataFrame(activity_data)",
   "id": "d5538e93a2ba2186",
   "outputs": [
    {
     "data": {
      "text/plain": [
       "        AMP ID         抵抗微生物名                                       sequence  \\\n",
       "0  CAMPSQ10060      S. mutans  GIINTLQKYYARVRGGRAAVLSALPKEEQIGKASTRGRKCARRKK   \n",
       "1  CAMPSQ10060  , A. israelii  GIINTLQKYYARVRGGRAAVLSALPKEEQIGKASTRGRKCARRKK   \n",
       "2  CAMPSQ10060  , E. faecalis  GIINTLQKYYARVRGGRAAVLSALPKEEQIGKASTRGRKCARRKK   \n",
       "3  CAMPSQ10060  , C. albicans  GIINTLQKYYARVRGGRAAVLSALPKEEQIGKASTRGRKCARRKK   \n",
       "\n",
       "        unit  value      experiment-validated  \\\n",
       "0  microg/ml    250  Experimentally validated   \n",
       "1  microg/ml   7.81  Experimentally validated   \n",
       "2  microg/ml    500  Experimentally validated   \n",
       "3  microg/ml  >4000  Experimentally validated   \n",
       "\n",
       "                                          url_source  \n",
       "0  https://camp.bicnirrh.res.in/seqDisp.php?id=CA...  \n",
       "1  https://camp.bicnirrh.res.in/seqDisp.php?id=CA...  \n",
       "2  https://camp.bicnirrh.res.in/seqDisp.php?id=CA...  \n",
       "3  https://camp.bicnirrh.res.in/seqDisp.php?id=CA...  "
      ],
      "text/html": [
       "<div>\n",
       "<style scoped>\n",
       "    .dataframe tbody tr th:only-of-type {\n",
       "        vertical-align: middle;\n",
       "    }\n",
       "\n",
       "    .dataframe tbody tr th {\n",
       "        vertical-align: top;\n",
       "    }\n",
       "\n",
       "    .dataframe thead th {\n",
       "        text-align: right;\n",
       "    }\n",
       "</style>\n",
       "<table border=\"1\" class=\"dataframe\">\n",
       "  <thead>\n",
       "    <tr style=\"text-align: right;\">\n",
       "      <th></th>\n",
       "      <th>AMP ID</th>\n",
       "      <th>抵抗微生物名</th>\n",
       "      <th>sequence</th>\n",
       "      <th>unit</th>\n",
       "      <th>value</th>\n",
       "      <th>experiment-validated</th>\n",
       "      <th>url_source</th>\n",
       "    </tr>\n",
       "  </thead>\n",
       "  <tbody>\n",
       "    <tr>\n",
       "      <th>0</th>\n",
       "      <td>CAMPSQ10060</td>\n",
       "      <td>S. mutans</td>\n",
       "      <td>GIINTLQKYYARVRGGRAAVLSALPKEEQIGKASTRGRKCARRKK</td>\n",
       "      <td>microg/ml</td>\n",
       "      <td>250</td>\n",
       "      <td>Experimentally validated</td>\n",
       "      <td>https://camp.bicnirrh.res.in/seqDisp.php?id=CA...</td>\n",
       "    </tr>\n",
       "    <tr>\n",
       "      <th>1</th>\n",
       "      <td>CAMPSQ10060</td>\n",
       "      <td>, A. israelii</td>\n",
       "      <td>GIINTLQKYYARVRGGRAAVLSALPKEEQIGKASTRGRKCARRKK</td>\n",
       "      <td>microg/ml</td>\n",
       "      <td>7.81</td>\n",
       "      <td>Experimentally validated</td>\n",
       "      <td>https://camp.bicnirrh.res.in/seqDisp.php?id=CA...</td>\n",
       "    </tr>\n",
       "    <tr>\n",
       "      <th>2</th>\n",
       "      <td>CAMPSQ10060</td>\n",
       "      <td>, E. faecalis</td>\n",
       "      <td>GIINTLQKYYARVRGGRAAVLSALPKEEQIGKASTRGRKCARRKK</td>\n",
       "      <td>microg/ml</td>\n",
       "      <td>500</td>\n",
       "      <td>Experimentally validated</td>\n",
       "      <td>https://camp.bicnirrh.res.in/seqDisp.php?id=CA...</td>\n",
       "    </tr>\n",
       "    <tr>\n",
       "      <th>3</th>\n",
       "      <td>CAMPSQ10060</td>\n",
       "      <td>, C. albicans</td>\n",
       "      <td>GIINTLQKYYARVRGGRAAVLSALPKEEQIGKASTRGRKCARRKK</td>\n",
       "      <td>microg/ml</td>\n",
       "      <td>&gt;4000</td>\n",
       "      <td>Experimentally validated</td>\n",
       "      <td>https://camp.bicnirrh.res.in/seqDisp.php?id=CA...</td>\n",
       "    </tr>\n",
       "  </tbody>\n",
       "</table>\n",
       "</div>"
      ]
     },
     "execution_count": 8,
     "metadata": {},
     "output_type": "execute_result"
    }
   ],
   "execution_count": 8
  },
  {
   "metadata": {
    "ExecuteTime": {
     "end_time": "2025-07-24T16:45:22.217077Z",
     "start_time": "2025-07-24T16:45:22.213736Z"
    }
   },
   "cell_type": "code",
   "source": "pd.DataFrame(hemolysis_data)",
   "id": "bd3abfecd94d86d2",
   "outputs": [
    {
     "data": {
      "text/plain": [
       "Empty DataFrame\n",
       "Columns: []\n",
       "Index: []"
      ],
      "text/html": [
       "<div>\n",
       "<style scoped>\n",
       "    .dataframe tbody tr th:only-of-type {\n",
       "        vertical-align: middle;\n",
       "    }\n",
       "\n",
       "    .dataframe tbody tr th {\n",
       "        vertical-align: top;\n",
       "    }\n",
       "\n",
       "    .dataframe thead th {\n",
       "        text-align: right;\n",
       "    }\n",
       "</style>\n",
       "<table border=\"1\" class=\"dataframe\">\n",
       "  <thead>\n",
       "    <tr style=\"text-align: right;\">\n",
       "      <th></th>\n",
       "    </tr>\n",
       "  </thead>\n",
       "  <tbody>\n",
       "  </tbody>\n",
       "</table>\n",
       "</div>"
      ]
     },
     "execution_count": 9,
     "metadata": {},
     "output_type": "execute_result"
    }
   ],
   "execution_count": 9
  },
  {
   "metadata": {},
   "cell_type": "code",
   "outputs": [],
   "execution_count": null,
   "source": "",
   "id": "25ad3554a70d6e47"
  }
 ],
 "metadata": {
  "kernelspec": {
   "display_name": "pytorch",
   "language": "python",
   "name": "pytorch"
  },
  "language_info": {
   "codemirror_mode": {
    "name": "ipython",
    "version": 2
   },
   "file_extension": ".py",
   "mimetype": "text/x-python",
   "name": "python",
   "nbconvert_exporter": "python",
   "pygments_lexer": "ipython2",
   "version": "2.7.6"
  }
 },
 "nbformat": 4,
 "nbformat_minor": 5
}
