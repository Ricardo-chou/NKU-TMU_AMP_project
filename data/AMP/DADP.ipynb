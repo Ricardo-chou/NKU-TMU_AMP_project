{
 "cells": [
  {
   "cell_type": "code",
   "execution_count": 82,
   "metadata": {},
   "outputs": [],
   "source": [
    "import re\n",
    "import requests\n",
    "from bs4 import BeautifulSoup\n",
    "DATABASE_NAME = 'DADP'"
   ]
  },
  {
   "cell_type": "code",
   "execution_count": null,
   "metadata": {},
   "outputs": [],
   "source": [
    "with open(\"DADP_list.txt\", \"r\") as f:\n",
    "    initial_links_text = f.read()\n",
    "links = list(re.findall(r\"SP_[a-zA-Z0-9_]+\", initial_links_text))"
   ]
  },
  {
   "cell_type": "code",
   "execution_count": null,
   "metadata": {},
   "outputs": [],
   "source": [
    "def get_sequences(data_table):\n",
    "    rows = data_table.findAll('tr')\n",
    "    label_row = [td.text.strip() for td in rows[0].findAll('td')]\n",
    "    value_rows = []\n",
    "    for row in rows[1:]:\n",
    "        value_rows.append([td.text.strip() for td in row.findAll('td')])\n",
    "    sequence_index = label_row.index('Sequence')\n",
    "    return [value_row[sequence_index] for value_row in value_rows]\n",
    "\n",
    "def get_modifications(data_table):\n",
    "    rows = data_table.findAll('tr')\n",
    "    label_row = [td.text.strip() for td in rows[0].findAll('td')]\n",
    "    value_rows = []\n",
    "    for row in rows[1:]:\n",
    "        value_rows.append([td.text.strip() for td in row.findAll('td')])\n",
    "\n",
    "    modifications_index = label_row.index('Amidated')\n",
    "\n",
    "    def _get_modifications(cell):\n",
    "        if cell == 'Yes':\n",
    "            return 'C-Terminal'\n",
    "        else:\n",
    "            return []\n",
    "    return [\n",
    "        _get_modifications(value_row[modifications_index])\n",
    "        for value_row in value_rows\n",
    "    ]\n",
    "    \n",
    "\n",
    "def get_mic_data(data_table):\n",
    "    mic_data = {}\n",
    "\n",
    "    rows = data_table.findAll('tr')\n",
    "    label_row = [td for td in rows[0].findAll('td')]\n",
    "    value_rows = []\n",
    "    for row in rows[1:]:\n",
    "        value_rows.append([td.text.strip() for td in row.findAll('td')])\n",
    "\n",
    "    bacteria_columns = {}\n",
    "    hemolysis_column = []\n",
    "    for column_index, column in enumerate(label_row):\n",
    "        contents = column.contents\n",
    "        bacteria_column = []\n",
    "        if 'MIC' in contents[0].string:\n",
    "            bacteria = contents[1].string\n",
    "            mic_data[bacteria] = {}\n",
    "            unit = contents[2][2:-1]\n",
    "            for value_row in value_rows:\n",
    "                mic_value = value_row[column_index]\n",
    "                bacteria_column.append(mic_value)\n",
    "            bacteria_columns[bacteria] = bacteria_column\n",
    "        elif 'HC50' in contents[0].string:\n",
    "            unit = contents[0].string\n",
    "            for value_row in value_rows:\n",
    "                hemolysis_matches = re.findall(r'[0-9]+.[0-9]+', value_row[column_index])\n",
    "                hemolysis_value = hemolysis_matches[0] if hemolysis_matches else ''\n",
    "                hemolysis_column.append(hemolysis_value)\n",
    "\n",
    "    return bacteria_columns, hemolysis_column\n",
    "\n",
    "def get_references(reference_table):\n",
    "    is_reference_tr = False\n",
    "    references = []\n",
    "    for tr in reference_table.findAll('tr'):\n",
    "        for cell in tr.findAll('td'):\n",
    "            cell_string = cell.string\n",
    "            if is_reference_tr:\n",
    "                if re.search(r'\\d\\.', cell_string[:2]):\n",
    "                    continue\n",
    "                else:\n",
    "                    references.append(cell_string)\n",
    "            if cell_string == 'References:':\n",
    "                is_reference_tr = True\n",
    "        if is_reference_tr:\n",
    "            return references\n",
    "    return references"
   ]
  },
  {
   "cell_type": "code",
   "execution_count": null,
   "metadata": {},
   "outputs": [],
   "source": [
    "amps = {}\n",
    "unit = 'uM'"
   ]
  },
  {
   "cell_type": "code",
   "execution_count": null,
   "metadata": {},
   "outputs": [],
   "source": [
    "url_base = 'http://split4.pmfst.hr/dadp/?a=kartica&id='\n",
    "for i, link in enumerate(links[len(amps):]):\n",
    "    url = url_base + link\n",
    "    content = requests.get(url).content\n",
    "    soup = BeautifulSoup(content, 'html.parser')\n",
    "\n",
    "    tables = soup.findAll('table')\n",
    "    reference_table = tables[1]\n",
    "    data_table = tables[2]\n",
    "    sequences = get_sequences(data_table)\n",
    "    bacteria_columns, hemolysis_column = get_mic_data(data_table)\n",
    "    modifications_column = get_modifications(data_table)\n",
    "    for s_index, sequence in enumerate(sequences):\n",
    "        amps[sequence] = {\n",
    "            'hemolysis': hemolysis_column[s_index],\n",
    "            'url_sources': [url],\n",
    "            'modifications': modifications_column[s_index],\n",
    "            'references': get_references(reference_table),\n",
    "            'bacteria':{\n",
    "                (bacterium, None): {'unit': unit, 'value': bacteria_columns[bacterium][s_index]}\n",
    "                for bacterium in bacteria_columns\n",
    "            }\n",
    "        }\n",
    "    if i % 10 == 0:\n",
    "        print(i)"
   ]
  },
  {
   "cell_type": "code",
   "execution_count": 83,
   "metadata": {},
   "outputs": [],
   "source": [
    "with open(DATABASE_NAME + \".data\", 'w') as f:\n",
    "    f.write(str(amps))"
   ]
  },
  {
   "cell_type": "code",
   "execution_count": 84,
   "metadata": {},
   "outputs": [
    {
     "data": {
      "text/plain": [
       "{'bacteria': {(u'E. coli', None): {'unit': 'uM', 'value': u'30'},\n",
       "  (u'S. aureus', None): {'unit': 'uM', 'value': u'30'}},\n",
       " 'hemolysis': '',\n",
       " 'modifications': [],\n",
       " 'references': [u'J.M. Conlon et al. / Toxicon 50 (2007) 746-756. Cytolytic peptides belonging to the brevinin-1 and brevinin-2 families isolated from the skin of the Japanese brown frog, Rana dybowskii'],\n",
       " 'url_sources': ['http://split4.pmfst.hr/dadp/?a=kartica&id=SP_P0C5X2']}"
      ]
     },
     "execution_count": 84,
     "metadata": {},
     "output_type": "execute_result"
    }
   ],
   "source": [
    "amps['GLFDVVKGVLKGAGKNVAGSLLEQLKCKLSGGC']"
   ]
  },
  {
   "cell_type": "code",
   "execution_count": null,
   "metadata": {},
   "outputs": [],
   "source": [
    "amps"
   ]
  }
 ],
 "metadata": {
  "kernelspec": {
   "display_name": "Python 2",
   "language": "python",
   "name": "python2"
  },
  "language_info": {
   "codemirror_mode": {
    "name": "ipython",
    "version": 2
   },
   "file_extension": ".py",
   "mimetype": "text/x-python",
   "name": "python",
   "nbconvert_exporter": "python",
   "pygments_lexer": "ipython2",
   "version": "2.7.12"
  }
 },
 "nbformat": 4,
 "nbformat_minor": 2
}
