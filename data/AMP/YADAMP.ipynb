{
 "cells": [
  {
   "cell_type": "code",
   "execution_count": null,
   "metadata": {},
   "outputs": [],
   "source": [
    "import re\n",
    "import requests\n",
    "from bs4 import BeautifulSoup\n",
    "bacteria_regex = r'[A-Z]\\. [a-z]+'\n",
    "bacteria_mic_regex = r'MIC ' + bacteria_regex\n",
    "bacteria_equals_regex = '(?P<bacterium>' + bacteria_regex + r')\\s?=\\s?' + '(?P<value>\\d+\\.?\\d*)'\n",
    "DATABASE_NAME = 'YADAMP'"
   ]
  },
  {
   "cell_type": "code",
   "execution_count": null,
   "metadata": {},
   "outputs": [],
   "source": [
    "i = 2222\n",
    "url_base = 'http://www.yadamp.unisa.it/showItem.aspx?yadampid='\n",
    "url = url_base + str(i)\n",
    "content = requests.get(url).content\n",
    "soup = BeautifulSoup(content, 'html.parser')"
   ]
  },
  {
   "cell_type": "code",
   "execution_count": null,
   "metadata": {},
   "outputs": [],
   "source": [
    "amps = {}\n",
    "NUM_AMPS = 2525"
   ]
  },
  {
   "cell_type": "code",
   "execution_count": null,
   "metadata": {},
   "outputs": [],
   "source": [
    "def get_references(table):\n",
    "    for table_row in table.findAll('tr'):\n",
    "        rows = table_row.findAll('td')\n",
    "        for i, row in enumerate(rows):\n",
    "            if row.string and 'TITLE PAPER' in row.string:\n",
    "                reference_cell = rows[i+1]\n",
    "    reference_string = reference_cell.text.strip()\n",
    "    reference_link = reference_cell.find('a').get('href') if reference_cell.find('a') else ''\n",
    "    return [reference_string + ' | ' + reference_link]"
   ]
  },
  {
   "cell_type": "code",
   "execution_count": null,
   "metadata": {},
   "outputs": [],
   "source": [
    "for i in range(max(len(amps), 1), NUM_AMPS):\n",
    "    url_base = 'http://www.yadamp.unisa.it/showItem.aspx?yadampid='\n",
    "    url = url_base + str(i)\n",
    "    content = requests.get(url).content\n",
    "    soup = BeautifulSoup(content, 'html.parser')\n",
    "    table = soup.find('table')\n",
    "\n",
    "    bacteria_dict = {}\n",
    "    UNIT = 'uM'\n",
    "    sequence = None\n",
    "    for table_row in table.findAll('tr'):\n",
    "        rows = table_row.findAll('td')\n",
    "        for j, row in enumerate(rows):\n",
    "            if not row.string:\n",
    "                continue\n",
    "            if re.search(bacteria_mic_regex, row.string):\n",
    "                bacterium = re.search(bacteria_regex, row.string).group(0)\n",
    "                value = rows[j+1].string.strip()\n",
    "                if value:\n",
    "                    bacteria_dict[(bacterium, None)] = {\n",
    "                        'value': value,\n",
    "                        'unit': UNIT\n",
    "                    }\n",
    "            elif re.search(bacteria_equals_regex, row.string):\n",
    "                for match in re.finditer(bacteria_equals_regex, row.string):\n",
    "                    groupdict = match.groupdict()\n",
    "                    bacterium = groupdict['bacterium']\n",
    "                    value = groupdict['value']\n",
    "                    bacteria_dict[(bacterium, None)] = {\n",
    "                        'value': value,\n",
    "                        'unit': UNIT\n",
    "                    }\n",
    "            elif row.string.strip() == 'SEQUENCE':\n",
    "                sequence_row = rows[j+1]\n",
    "                sequence = list(sequence_row.findAll('b')[0].children)[0]\n",
    "    if not sequence:\n",
    "        pass # print('Error sequence not found', i, sequence)\n",
    "    else:\n",
    "        # print(\"Adding sequence:\", i, sequence)\n",
    "        amps[sequence] = {}\n",
    "        amps[sequence]['bacteria'] = bacteria_dict\n",
    "        amps[sequence]['references'] = get_references(table)\n",
    "        amps[sequence]['url_sources'] = [url]\n",
    "    if i % 50 == 0:\n",
    "        print(i)"
   ]
  },
  {
   "cell_type": "code",
   "execution_count": null,
   "metadata": {},
   "outputs": [],
   "source": [
    "with open(DATABASE_NAME + \".data\", 'w') as f:\n",
    "    f.write(str(amps))"
   ]
  },
  {
   "cell_type": "code",
   "execution_count": null,
   "metadata": {},
   "outputs": [],
   "source": []
  }
 ],
 "metadata": {
  "kernelspec": {
   "display_name": "Python 2",
   "language": "python",
   "name": "python2"
  },
  "language_info": {
   "codemirror_mode": {
    "name": "ipython",
    "version": 2
   },
   "file_extension": ".py",
   "mimetype": "text/x-python",
   "name": "python",
   "nbconvert_exporter": "python",
   "pygments_lexer": "ipython2",
   "version": "2.7.12"
  }
 },
 "nbformat": 4,
 "nbformat_minor": 2
}
