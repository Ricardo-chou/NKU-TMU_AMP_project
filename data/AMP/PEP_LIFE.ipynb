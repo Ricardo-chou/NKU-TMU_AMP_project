{
 "cells": [
  {
   "cell_type": "code",
   "execution_count": null,
   "metadata": {},
   "outputs": [],
   "source": [
    "import re\n",
    "import requests\n",
    "from bs4 import BeautifulSoup\n",
    "DATABASE_NAME = 'PEP_LIFE'\n",
    "MIN_PEPTIDE_ID = 1001\n",
    "MAX_PEPTIDE_ID = 3212"
   ]
  },
  {
   "cell_type": "code",
   "execution_count": null,
   "metadata": {},
   "outputs": [],
   "source": [
    "def get_row(soup, row_string):\n",
    "    for row in soup.find_all('tr'):\n",
    "        if row_string in str(row):\n",
    "            return row\n",
    "        if row.find_all('td'):\n",
    "            for td in row.find_all('td'):\n",
    "                if td.string and row_string in td.string:\n",
    "                    return row\n",
    "    return None\n",
    "\n",
    "def get_sequence(soup):\n",
    "    sequence_row = get_row(soup, 'SEQUENCE')\n",
    "    if not sequence_row:\n",
    "        return\n",
    "    return sequence_row.find_all('td')[1].string or sequence_row.find_all('td')[1].text\n",
    "\n",
    "def get_half_life_data(soup):\n",
    "    half_life_seconds_row = get_row(soup, 'Converted Half-')\n",
    "    half_life_seconds = half_life_seconds_row.find_all('td')[1].string or half_life_seconds_row.find_all('td')[1].text\n",
    "\n",
    "    test_sample_row = get_row(soup, 'TEST SAMPLE')\n",
    "    test_sample = test_sample_row.find_all('td')[1].string or test_sample_row.find_all('td')[1].text\n",
    "\n",
    "    vivo_vitro_row = get_row(soup, 'IN VIVO')\n",
    "    vivo_vitro = vivo_vitro_row.find_all('td')[1].string or vivo_vitro_row.find_all('td')[1].text\n",
    "\n",
    "    return {\n",
    "        'half_life_seconds': half_life_seconds,\n",
    "        'test_sample': test_sample,\n",
    "        'vivo_vitro': vivo_vitro\n",
    "    }\n",
    "    \n",
    "def get_references(soup):\n",
    "    references_row = get_row(soup, 'PMID')\n",
    "    return [references_row.find('a').get('href')]\n",
    "\n",
    "def get_modifications(soup):\n",
    "    modifications = []\n",
    "\n",
    "    nterminal_modification_row = get_row(soup, 'N-TER MODIFICATION')\n",
    "    nterminal = nterminal_modification_row.find_all('td')[1].string or nterminal_modification_row.find_all('td')[1].text\n",
    "    cterminal_modification_row = get_row(soup, 'C-TER MODIFICATION')\n",
    "    cterminal = cterminal_modification_row.find_all('td')[1].string or cterminal_modification_row.find_all('td')[1].text\n",
    "    linear_cyclic_row = get_row(soup, 'LINEAR/CYCLIC')\n",
    "    linear_cyclic = linear_cyclic_row.find_all('td')[1].string or linear_cyclic_row.find_all('td')[1].text\n",
    "    stereochemistry_row = get_row(soup, 'STEREO-CHEMISTRY')\n",
    "    stereochemistry = stereochemistry_row.find_all('td')[1].string or stereochemistry_row.find_all('td')[1].text\n",
    "    chemical_modifications_row = get_row(soup, 'CHEMICAL MODIFICATIONS')\n",
    "    chemical_modifications = chemical_modifications_row.find_all('td')[1].string or chemical_modifications_row.find_all('td')[1].text\n",
    "    \n",
    "    if 'Am' in cterminal:\n",
    "        modifications.append('C-Terminal Amidation')\n",
    "    if nterminal != 'Free':\n",
    "        modifications.append('N-Terminal')\n",
    "    if 'yclic' in linear_cyclic.lower():\n",
    "        modifications.append('Cyclic')\n",
    "    if stereochemistry != 'L':\n",
    "        modifications.append('Stereochemistry')\n",
    "    if chemical_modifications != \"None\":\n",
    "        modifications.append('Chemical Modification: ' + chemical_modifications)\n",
    "    return modifications"
   ]
  },
  {
   "cell_type": "code",
   "execution_count": null,
   "metadata": {},
   "outputs": [],
   "source": [
    "amps = {}"
   ]
  },
  {
   "cell_type": "code",
   "execution_count": null,
   "metadata": {
    "scrolled": false
   },
   "outputs": [],
   "source": [
    "for i in range(MIN_PEPTIDE_ID + len(amps), MAX_PEPTIDE_ID + 1):\n",
    "    url_base = 'http://crdd.osdd.net/raghava/peplife/display_sub.php?details='\n",
    "    url = url_base + str(i)\n",
    "    content = requests.get(url).content\n",
    "    soup = BeautifulSoup(content, 'html.parser')\n",
    "\n",
    "    sequence = get_sequence(soup)\n",
    "    if not sequence:\n",
    "        continue\n",
    "\n",
    "    modifications = tuple(get_modifications(soup))\n",
    "    references = get_references(soup)\n",
    "    half_life_data = get_half_life_data(soup)\n",
    "    if (sequence, modifications) not in amps:\n",
    "        amps[(sequence, modifications)] = {\n",
    "            'modifications': modifications,\n",
    "            'references': references,\n",
    "            'half_life_data': [(half_life_data, url)],\n",
    "            'url_sources': [url]\n",
    "        }\n",
    "    if i % 100 == 0:\n",
    "        print(i)"
   ]
  },
  {
   "cell_type": "code",
   "execution_count": null,
   "metadata": {},
   "outputs": [],
   "source": [
    "with open(DATABASE_NAME + \".data\", 'w') as f:\n",
    "    f.write(str(amps))"
   ]
  },
  {
   "cell_type": "code",
   "execution_count": null,
   "metadata": {},
   "outputs": [],
   "source": []
  }
 ],
 "metadata": {
  "kernelspec": {
   "display_name": "Python 2",
   "language": "python",
   "name": "python2"
  },
  "language_info": {
   "codemirror_mode": {
    "name": "ipython",
    "version": 2
   },
   "file_extension": ".py",
   "mimetype": "text/x-python",
   "name": "python",
   "nbconvert_exporter": "python",
   "pygments_lexer": "ipython2",
   "version": "2.7.12"
  }
 },
 "nbformat": 4,
 "nbformat_minor": 2
}
