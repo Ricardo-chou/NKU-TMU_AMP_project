{
 "cells": [
  {
   "cell_type": "code",
   "execution_count": 2,
   "metadata": {},
   "outputs": [],
   "source": [
    "import re\n",
    "import requests\n",
    "from bs4 import BeautifulSoup\n",
    "MIN_ID = 1001\n",
    "MAX_ID = 4202\n",
    "DATABASE_NAME = 'Hemolytik'"
   ]
  },
  {
   "cell_type": "code",
   "execution_count": null,
   "metadata": {},
   "outputs": [],
   "source": [
    "url_base = 'http://crdd.osdd.net/raghava/hemolytik/display.php?details='\n",
    "amps = {}"
   ]
  },
  {
   "cell_type": "code",
   "execution_count": null,
   "metadata": {},
   "outputs": [],
   "source": [
    "for j in range(MIN_ID + len(amps), MAX_ID):\n",
    "# for j in range(1098, 1100):\n",
    "    url = url_base + str(j)\n",
    "    content = requests.get(url).content\n",
    "    soup = BeautifulSoup(content, 'html.parser')\n",
    "    rows = soup.findAll('td')\n",
    "    sequence, hemolysis_activity, reference_article, reference_authors, reference_journal = None, None, None, None, None\n",
    "    cterm_string, nterm_string, lc_string, stereochemistry_string, nn_string = None, None, None, None, None\n",
    "    for i, row in enumerate(rows):\n",
    "        string = row.string\n",
    "        if row.string:\n",
    "            stripped = row.string.strip()\n",
    "            if stripped == 'SEQUENCE':\n",
    "                sequence = rows[i+1].string.strip().replace('-', '')\n",
    "            elif stripped == 'ACTIVITY':\n",
    "                hemolysis_activity = rows[i+1].string.strip()\n",
    "            elif stripped == 'ARTICLE':\n",
    "                reference_article = rows[i+1].string.strip()\n",
    "            elif stripped == 'AUTHORS':\n",
    "                reference_authors = rows[i+1].string.strip() if rows[i+1].string else ''\n",
    "            elif stripped == 'JOURNAL':\n",
    "                reference_journal = rows[i+1].string.strip()\n",
    "            elif stripped == 'C-ter Modification':\n",
    "                cterm_string = rows[i+1].string.strip()\n",
    "            elif stripped == 'N-ter Modification':\n",
    "                nterm_string = rows[i+1].string.strip()\n",
    "            elif stripped == 'Linear/Cyclic':\n",
    "                lc_string = rows[i+1].string.strip()\n",
    "            elif stripped == 'Stereochemistry':\n",
    "                stereochemistry_string = rows[i+1].string.strip()\n",
    "            elif stripped == 'Non-Natural':\n",
    "                nn_string = rows[i+1].string.strip()\n",
    "\n",
    "    try:\n",
    "        references = [reference_article + \" \" + reference_authors + \" \" + reference_journal]\n",
    "    except:\n",
    "        continue  # A page like http://crdd.osdd.net/raghava/hemolytik/display.php?details=1026\n",
    "\n",
    "    modifications = []\n",
    "    if 'Amidat' in cterm_string:\n",
    "        modifications.append('C-Terminal')\n",
    "    elif cterm_string != 'Free':\n",
    "        modifications.append('C-Terminal Non-Amidation: ' + cterm_string)\n",
    "    if nterm_string != 'Free':\n",
    "        modifications.append('N-Terminal Modification: ' + nterm_string)\n",
    "    if lc_string != 'Linear':\n",
    "        modifications.append('Cyclic')\n",
    "    if stereochemistry_string != 'L':\n",
    "        modifications.append('Stereochemistry: ' + stereochemistry_string)\n",
    "    if nn_string != \"None\":\n",
    "        modifications.append('Non-Natural')\n",
    "\n",
    "    amps[sequence] = {\n",
    "        'hemolysis': hemolysis_activity,\n",
    "        'url_sources': [url],\n",
    "        'references': references,\n",
    "        'modifications': modifications\n",
    "    }\n",
    "    if j % 100 == 0:\n",
    "        print(j)"
   ]
  },
  {
   "cell_type": "code",
   "execution_count": null,
   "metadata": {},
   "outputs": [],
   "source": [
    "with open(DATABASE_NAME + \".data\", 'w') as f:\n",
    "    f.write(str(amps))"
   ]
  },
  {
   "cell_type": "code",
   "execution_count": null,
   "metadata": {},
   "outputs": [],
   "source": []
  }
 ],
 "metadata": {
  "kernelspec": {
   "display_name": "pytorch",
   "language": "python",
   "name": "python3"
  },
  "language_info": {
   "codemirror_mode": {
    "name": "ipython",
    "version": 3
   },
   "file_extension": ".py",
   "mimetype": "text/x-python",
   "name": "python",
   "nbconvert_exporter": "python",
   "pygments_lexer": "ipython3",
   "version": "3.11.11"
  }
 },
 "nbformat": 4,
 "nbformat_minor": 2
}
